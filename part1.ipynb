{
 "cells": [
  {
   "cell_type": "markdown",
   "metadata": {},
   "source": [
    "[![Open In Colab](https://colab.research.google.com/assets/colab-badge.svg)](https://colab.research.google.com/github/CLARIN-PL/NlpRest2-Tutorials/blob/master/part1.ipynb)"
   ]
  },
  {
   "cell_type": "markdown",
   "metadata": {},
   "source": [
    "# Part 1 — Introduction to the CLARIN-PL web services"
   ]
  },
  {
   "cell_type": "markdown",
   "metadata": {},
   "source": [
    "## 1. Basic characteristic\n",
    "\n",
    "* REST model,\n",
    "* GET/POST communication,\n",
    "* synchronous (for short texts and fast tasks) and asynchronous (time-consuming processing),\n",
    "* LPMN — a notion for defining the processing pipeline (http://nlp.pwr.wroc.pl/redmine/projects/nlprest2/wiki/Tools)"
   ]
  },
  {
   "cell_type": "markdown",
   "metadata": {},
   "source": [
    "## 2. The simplest use case\n",
    "\n",
    "Process a short sentence using synchronous GET request."
   ]
  },
  {
   "cell_type": "code",
   "execution_count": 1,
   "metadata": {},
   "outputs": [],
   "source": [
    "import json\n",
    "import requests\n",
    "\n",
    "clarinpl_url = \"http://ws.clarin-pl.eu/nlprest2/base\"\n",
    "user_mail = \"demo2019@nlpday.pl\""
   ]
  },
  {
   "cell_type": "code",
   "execution_count": 2,
   "metadata": {},
   "outputs": [],
   "source": [
    "url = clarinpl_url + \"/process\"\n",
    "lpmn = \"wcrft2\"\n",
    "text = \"Na płocie siedzi kot.\"\n",
    "\n",
    "payload = {'text': text, 'lpmn': lpmn, 'user': user_mail}\n",
    "headers = {'content-type': 'application/json'}"
   ]
  },
  {
   "cell_type": "code",
   "execution_count": 3,
   "metadata": {},
   "outputs": [
    {
     "name": "stdout",
     "output_type": "stream",
     "text": [
      "<?xml version=\"1.0\" encoding=\"UTF-8\"?>\n",
      "<!DOCTYPE chunkList SYSTEM \"ccl.dtd\">\n",
      "<chunkList>\n",
      " <chunk id=\"ch1\" type=\"p\">\n",
      "  <sentence id=\"s1\">\n",
      "   <tok>\n",
      "    <orth>Na</orth>\n",
      "    <lex disamb=\"1\"><base>na</base><ctag>prep:acc</ctag></lex>\n",
      "   </tok>\n",
      "   <tok>\n",
      "    <orth>płocie</orth>\n",
      "    <lex disamb=\"1\"><base>płot</base><ctag>subst:sg:loc:m3</ctag></lex>\n",
      "   </tok>\n",
      "   <tok>\n",
      "    <orth>siedzi</orth>\n",
      "    <lex disamb=\"1\"><base>siedzieć</base><ctag>fin:sg:ter:imperf</ctag></lex>\n",
      "   </tok>\n",
      "   <tok>\n",
      "    <orth>kot</orth>\n",
      "    <lex disamb=\"1\"><base>kot</base><ctag>subst:sg:nom:m1</ctag></lex>\n",
      "   </tok>\n",
      "   <ns/>\n",
      "   <tok>\n",
      "    <orth>.</orth>\n",
      "    <lex disamb=\"1\"><base>.</base><ctag>interp</ctag></lex>\n",
      "   </tok>\n",
      "  </sentence>\n",
      " </chunk>\n",
      "</chunkList>\n",
      "\n"
     ]
    }
   ],
   "source": [
    "r = requests.post(url, data=json.dumps(payload), headers=headers)\n",
    "ccl = r.content.decode('utf-8')\n",
    "print(ccl)"
   ]
  },
  {
   "cell_type": "markdown",
   "metadata": {},
   "source": [
    "### Print a list of token text forms"
   ]
  },
  {
   "cell_type": "code",
   "execution_count": 4,
   "metadata": {},
   "outputs": [
    {
     "name": "stdout",
     "output_type": "stream",
     "text": [
      "['Na', 'płocie', 'siedzi', 'kot', '.']\n"
     ]
    }
   ],
   "source": [
    "import xml.etree.ElementTree as ET\n",
    "\n",
    "def ccl_orths(ccl):\n",
    "    tree = ET.fromstring(ccl)\n",
    "    return [orth.text for orth in tree.iter('orth')]\n",
    "\n",
    "orths = ccl_orths(ccl)\n",
    "\n",
    "print(orths)"
   ]
  },
  {
   "cell_type": "markdown",
   "metadata": {},
   "source": [
    "### Print a list of token bases"
   ]
  },
  {
   "cell_type": "code",
   "execution_count": 5,
   "metadata": {},
   "outputs": [
    {
     "name": "stdout",
     "output_type": "stream",
     "text": [
      "['na', 'płot', 'siedzieć', 'kot', '.']\n"
     ]
    }
   ],
   "source": [
    "def ccl_bases(ccl):\n",
    "    tree = ET.fromstring(ccl)\n",
    "    return [tok.find('./lex/base').text for tok in tree.iter('tok')]\n",
    "\n",
    "bases = ccl_bases(ccl)\n",
    "    \n",
    "print(bases)"
   ]
  },
  {
   "cell_type": "markdown",
   "metadata": {},
   "source": [
    "### Print a list of token part of speech tags\n",
    "\n",
    "http://nkjp.pl/poliqarp/help/ense2.html"
   ]
  },
  {
   "cell_type": "code",
   "execution_count": 6,
   "metadata": {},
   "outputs": [
    {
     "name": "stdout",
     "output_type": "stream",
     "text": [
      "['prep', 'subst', 'fin', 'subst', 'interp']\n"
     ]
    }
   ],
   "source": [
    "def ccl_poses(ccl):\n",
    "    tree = ET.fromstring(ccl)\n",
    "    return [tok.find('./lex/ctag').text.split(\":\")[0] for tok in tree.iter('tok')]\n",
    "\n",
    "poses = ccl_poses(ccl)\n",
    "\n",
    "print(poses)"
   ]
  },
  {
   "cell_type": "markdown",
   "metadata": {},
   "source": [
    "### Tag and recognize named entities (boundaries)"
   ]
  },
  {
   "cell_type": "code",
   "execution_count": 7,
   "metadata": {},
   "outputs": [],
   "source": [
    "url = clarinpl_url + \"/process\"\n",
    "#lpmn = 'wcrft2'\n",
    "lpmn = \"wcrft2|liner2\"\n",
    "text = \"Tony Halik przyszedł na świat w Toruniu\"\n",
    "\n",
    "payload = {'text': text, 'lpmn': lpmn, 'user': user_mail}\n",
    "headers = {'content-type': 'application/json'}"
   ]
  },
  {
   "cell_type": "code",
   "execution_count": 8,
   "metadata": {},
   "outputs": [
    {
     "name": "stdout",
     "output_type": "stream",
     "text": [
      "<?xml version=\"1.0\" encoding=\"UTF-8\"?>\n",
      "<!DOCTYPE chunkList SYSTEM \"ccl.dtd\">\n",
      "<chunkList>\n",
      " <chunk type=\"p\" id=\"ch1\">\n",
      "  <sentence id=\"s1\">\n",
      "   <tok>\n",
      "    <orth>Tony</orth>\n",
      "    <lex disamb=\"1\"><base>ton</base><ctag>subst:pl:nom:m3</ctag></lex>\n",
      "    <ann chan=\"nam\">1</ann>\n",
      "   </tok>\n",
      "   <tok>\n",
      "    <orth>Halik</orth>\n",
      "    <lex disamb=\"1\"><base>Halik</base><ctag>ign</ctag></lex>\n",
      "    <ann chan=\"nam\">1</ann>\n",
      "   </tok>\n",
      "   <tok>\n",
      "    <orth>przyszedł</orth>\n",
      "    <lex disamb=\"1\"><base>przyjść</base><ctag>praet:sg:m1:perf</ctag></lex>\n",
      "    <ann chan=\"nam\">0</ann>\n",
      "   </tok>\n",
      "   <tok>\n",
      "    <orth>na</orth>\n",
      "    <lex disamb=\"1\"><base>na</base><ctag>prep:acc</ctag></lex>\n",
      "    <ann chan=\"nam\">0</ann>\n",
      "   </tok>\n",
      "   <tok>\n",
      "    <orth>świat</orth>\n",
      "    <lex disamb=\"1\"><base>świat</base><ctag>subst:sg:nom:m3</ctag></lex>\n",
      "    <ann chan=\"nam\">0</ann>\n",
      "   </tok>\n",
      "   <tok>\n",
      "    <orth>w</orth>\n",
      "    <lex disamb=\"1\"><base>w</base><ctag>prep:acc:nwok</ctag></lex>\n",
      "    <ann chan=\"nam\">0</ann>\n",
      "   </tok>\n",
      "   <tok>\n",
      "    <orth>Toruniu</orth>\n",
      "    <lex disamb=\"1\"><base>Toruń</base><ctag>subst:sg:loc:m3</ctag></lex>\n",
      "    <ann chan=\"nam\">2</ann>\n",
      "   </tok>\n",
      "  </sentence>\n",
      " </chunk>\n",
      "</chunkList>\n"
     ]
    }
   ],
   "source": [
    "r = requests.post(url, data=json.dumps(payload), headers=headers)\n",
    "print(r.content.decode('utf-8'))"
   ]
  },
  {
   "cell_type": "markdown",
   "metadata": {},
   "source": [
    "### Tag and recognize named entities (coarse-grained categories)"
   ]
  },
  {
   "cell_type": "code",
   "execution_count": 9,
   "metadata": {},
   "outputs": [],
   "source": [
    "url = clarinpl_url + \"/process\"\n",
    "#lpmn = 'wcrft2|liner2'\n",
    "lpmn = 'wcrft2|liner2({\"model\":\"top9\"})'\n",
    "text = \"Tony Halik przyszedł na świat w Toruniu\"\n",
    "\n",
    "payload = {'text': text, 'lpmn': lpmn, 'user': user_mail}\n",
    "headers = {'content-type': 'application/json'}"
   ]
  },
  {
   "cell_type": "code",
   "execution_count": 10,
   "metadata": {},
   "outputs": [
    {
     "name": "stdout",
     "output_type": "stream",
     "text": [
      "<?xml version=\"1.0\" encoding=\"UTF-8\"?>\n",
      "<!DOCTYPE chunkList SYSTEM \"ccl.dtd\">\n",
      "<chunkList>\n",
      " <chunk type=\"p\" id=\"ch1\">\n",
      "  <sentence id=\"s1\">\n",
      "   <tok>\n",
      "    <orth>Tony</orth>\n",
      "    <lex disamb=\"1\"><base>ton</base><ctag>subst:pl:nom:m3</ctag></lex>\n",
      "    <ann chan=\"nam_liv\">1</ann>\n",
      "    <ann chan=\"nam_loc\">0</ann>\n",
      "   </tok>\n",
      "   <tok>\n",
      "    <orth>Halik</orth>\n",
      "    <lex disamb=\"1\"><base>Halik</base><ctag>ign</ctag></lex>\n",
      "    <ann chan=\"nam_liv\">1</ann>\n",
      "    <ann chan=\"nam_loc\">0</ann>\n",
      "   </tok>\n",
      "   <tok>\n",
      "    <orth>przyszedł</orth>\n",
      "    <lex disamb=\"1\"><base>przyjść</base><ctag>praet:sg:m1:perf</ctag></lex>\n",
      "    <ann chan=\"nam_liv\">0</ann>\n",
      "    <ann chan=\"nam_loc\">0</ann>\n",
      "   </tok>\n",
      "   <tok>\n",
      "    <orth>na</orth>\n",
      "    <lex disamb=\"1\"><base>na</base><ctag>prep:acc</ctag></lex>\n",
      "    <ann chan=\"nam_liv\">0</ann>\n",
      "    <ann chan=\"nam_loc\">0</ann>\n",
      "   </tok>\n",
      "   <tok>\n",
      "    <orth>świat</orth>\n",
      "    <lex disamb=\"1\"><base>świat</base><ctag>subst:sg:nom:m3</ctag></lex>\n",
      "    <ann chan=\"nam_liv\">0</ann>\n",
      "    <ann chan=\"nam_loc\">0</ann>\n",
      "   </tok>\n",
      "   <tok>\n",
      "    <orth>w</orth>\n",
      "    <lex disamb=\"1\"><base>w</base><ctag>prep:acc:nwok</ctag></lex>\n",
      "    <ann chan=\"nam_liv\">0</ann>\n",
      "    <ann chan=\"nam_loc\">0</ann>\n",
      "   </tok>\n",
      "   <tok>\n",
      "    <orth>Toruniu</orth>\n",
      "    <lex disamb=\"1\"><base>Toruń</base><ctag>subst:sg:loc:m3</ctag></lex>\n",
      "    <ann chan=\"nam_liv\">0</ann>\n",
      "    <ann chan=\"nam_loc\">1</ann>\n",
      "   </tok>\n",
      "  </sentence>\n",
      " </chunk>\n",
      "</chunkList>\n"
     ]
    }
   ],
   "source": [
    "r = requests.post(url, data=json.dumps(payload), headers=headers)\n",
    "print(r.content.decode('utf-8'))"
   ]
  },
  {
   "cell_type": "markdown",
   "metadata": {},
   "source": [
    "## Batch processing\n",
    "\n",
    "CLARIN-PL WS can process a set of files uploaded as a zip package."
   ]
  },
  {
   "cell_type": "markdown",
   "metadata": {},
   "source": [
    "### Get a zip package with documents to process"
   ]
  },
  {
   "cell_type": "code",
   "execution_count": 11,
   "metadata": {},
   "outputs": [
    {
     "name": "stdout",
     "output_type": "stream",
     "text": [
      "Size of the package: 800523\n"
     ]
    }
   ],
   "source": [
    "import urllib.request\n",
    "\n",
    "url_zip = \"https://www.dropbox.com/s/54gmpdd6x3rx4gq/brexit_pl.zip?dl=1\"\n",
    "\n",
    "doc = urllib.request.urlopen(url_zip).read()\n",
    "    \n",
    "print(\"Size of the package: %d\" % len(doc))"
   ]
  },
  {
   "cell_type": "markdown",
   "metadata": {},
   "source": [
    "### Upload the package to CLARIN-PL WS"
   ]
  },
  {
   "cell_type": "code",
   "execution_count": 12,
   "metadata": {},
   "outputs": [
    {
     "name": "stdout",
     "output_type": "stream",
     "text": [
      "File handler: /users/default/d291fc62-d9b7-4b41-922b-312a20a92a52\n",
      "URL: http://ws.clarin-pl.eu/nlprest2/base/download/users/default/d291fc62-d9b7-4b41-922b-312a20a92a52\n"
     ]
    }
   ],
   "source": [
    "url = clarinpl_url + \"/upload/\"\n",
    "\n",
    "headers = {'content-type': 'binary/octet-stream'}\n",
    "\n",
    "file_handler = requests.post(url, data=doc, headers=headers).text\n",
    "print(\"File handler: %s\" % file_handler)\n",
    "print(\"URL: %s/download%s\" % (clarinpl_url, file_handler))"
   ]
  },
  {
   "cell_type": "markdown",
   "metadata": {},
   "source": [
    "### Process the package"
   ]
  },
  {
   "cell_type": "code",
   "execution_count": 13,
   "metadata": {},
   "outputs": [
    {
     "name": "stdout",
     "output_type": "stream",
     "text": [
      "LPMN: filezip(/users/default/d291fc62-d9b7-4b41-922b-312a20a92a52)|wcrft2|dir|makezip\n",
      "Task id: 14916758-a063-433d-a500-a1f3e8e3045f\n",
      "[  0 s] Status: PROCESSING; Progress:   0.00%\n",
      "[  1 s] Status: PROCESSING; Progress:   0.00%\n",
      "[  2 s] Status: PROCESSING; Progress:   8.78%\n",
      "[  4 s] Status: PROCESSING; Progress:  36.73%\n",
      "[  5 s] Status: PROCESSING; Progress:  57.09%\n",
      "[  6 s] Status: PROCESSING; Progress:  76.05%\n",
      "[  7 s] Status: PROCESSING; Progress:  95.61%\n",
      "[  8 s] Status: PROCESSING; Progress:  95.61%\n",
      "[  9 s] Status: PROCESSING; Progress:  95.61%\n",
      "[ 11 s] Status: DONE      ; Progress: 100.00%\n",
      "Result file id: /requests/makezip/243e749d-e3a5-4162-a071-44d35a9514f0\n"
     ]
    }
   ],
   "source": [
    "import time\n",
    "\n",
    "url = clarinpl_url + \"/startTask\"\n",
    "lpmn = 'filezip(%s)|wcrft2|dir|makezip' % file_handler\n",
    "print(\"LPMN: %s\" % lpmn)\n",
    "\n",
    "payload = {'lpmn': lpmn, 'user': user_mail}\n",
    "headers = {'content-type': 'application/json'}\n",
    "\n",
    "start = time.time()\n",
    "task_id = requests.post(url, data=json.dumps(payload), headers=headers).text\n",
    "print(\"Task id: %s\" % task_id)\n",
    "\n",
    "# Check task status\n",
    "processing = True\n",
    "file_id = None\n",
    "\n",
    "while processing:\n",
    "  data = requests.get(clarinpl_url + \"/getStatus/\" + task_id).text\n",
    "  result = json.loads(data)\n",
    "  end = time.time()\n",
    "  if result[\"status\"] == \"PROCESSING\":\n",
    "    print(\"[%3d s] Status: %s; Progress: %6.2f%%\" % (end-start, result[\"status\"], result[\"value\"]*100))\n",
    "    time.sleep(1)\n",
    "  elif result[\"status\"] == \"DONE\":\n",
    "    file_id = result[\"value\"][0][\"fileID\"]\n",
    "    processing = False  \n",
    "    print(\"[%3d s] Status: DONE      ; Progress: 100.00%%\" % (end-start))\n",
    "  else:\n",
    "    print(data)\n",
    "    processing = False  \n",
    "    \n",
    "print(\"Result file id: %s\" % file_id)"
   ]
  },
  {
   "cell_type": "markdown",
   "metadata": {},
   "source": [
    "### Download the result"
   ]
  },
  {
   "cell_type": "code",
   "execution_count": 14,
   "metadata": {},
   "outputs": [
    {
     "name": "stdout",
     "output_type": "stream",
     "text": [
      "http://ws.clarin-pl.eu/nlprest2/base/download/requests/makezip/243e749d-e3a5-4162-a071-44d35a9514f0\n",
      "Saved to result.zip\n"
     ]
    }
   ],
   "source": [
    "path = \"result.zip\"\n",
    "\n",
    "url = clarinpl_url + \"/download\" + file_id\n",
    "print(url)\n",
    "data = requests.get(url).content\n",
    "file = open(path, \"w+b\")\n",
    "file.write(data)\n",
    "file.close()\n",
    "\n",
    "print(\"Saved to %s\" % path)"
   ]
  },
  {
   "cell_type": "markdown",
   "metadata": {},
   "source": [
    "## Browse the result"
   ]
  },
  {
   "cell_type": "code",
   "execution_count": 15,
   "metadata": {},
   "outputs": [
    {
     "name": "stdout",
     "output_type": "stream",
     "text": [
      "Number of documents: 500\n",
      "\n",
      "First 10 files in the package:\n",
      "['brexit_pl%brexit_pl.txt_file_700.txt', 'brexit_pl%brexit_pl.txt_file_274.txt', 'brexit_pl%brexit_pl.txt_file_1337.txt', 'brexit_pl%brexit_pl.txt_file_1918.txt', 'brexit_pl%brexit_pl.txt_file_1302.txt', 'brexit_pl%brexit_pl.txt_file_1934.txt', 'brexit_pl%brexit_pl.txt_file_1683.txt', 'brexit_pl%brexit_pl.txt_file_1441.txt', 'brexit_pl%brexit_pl.txt_file_626.txt', 'brexit_pl%brexit_pl.txt_file_1233.txt']\n",
      "\n",
      "Content of the first file:\n",
      "<?xml version=\"1.0\" encoding=\"UTF-8\"?>\n",
      "<!DOCTYPE chunkList SYSTEM \"ccl.dtd\">\n",
      "<chunkList>\n",
      " <chunk id=\"ch1\" type=\"p\">\n",
      "  <sentence id=\"s1\">\n",
      "   <tok>\n",
      "    <orth>pl</orth>\n",
      "    <lex disamb=\"1\"><base>Polska</base><ctag>brev:npun</ctag></lex>\n",
      "   </tok>\n",
      "   <ns/>\n",
      "   <tok>\n",
      "    <orth>-</orth>\n",
      "    <lex disamb=\"1\"><base>-</base><ctag>interp</ctag></lex>\n",
      "   </tok>\n",
      "   <ns/>\n",
      "   <tok>\n",
      "    <orth>700</orth>\n",
      "    <lex disamb=\"1\"><base>700</base><ctag>num:pl:nom:m1:rec</ctag></lex>\n",
      "   </tok>\n",
      "   <tok>\n",
      "    <orth>pl</orth>\n",
      "    <lex disamb=\"1\"><base>Polska</base><ctag>brev:npun</ctag></lex>\n",
      "   </tok>\n",
      "   <tok>\n",
      "    <orth>2018-02-15</orth>\n",
      "    <lex disamb=\"1\"><base>2018-02-15</base><ctag>ign</ctag></lex>\n",
      "   </tok>\n",
      "   <tok>\n",
      "    <orth>https://www.polskieradio.pl/7/1696/Artykul/2028387</orth>\n",
      "    <lex disamb=\"1\"><base>https://www.polskieradio.pl/7/1696/Artykul/2028387</base><ctag>subst:sg:nom:m3</ctag></lex>\n",
      "   </tok>\n",
      "   <tok>\n",
      "    <orth>14</orth>\n",
      "    <lex disamb=\"1\"><base>14</base><ctag>num:pl:nom:m1:rec</ctag></lex>\n",
      "   </tok>\n",
      "   <ns/>\n",
      "   <tok>\n",
      "    <orth>.</orth>\n",
      "    <lex disamb=\"1\"><base>.</base><ctag>interp</ctag></lex>\n",
      "   </tok>\n",
      "   <ns/>\n",
      "   <tok>\n",
      "    <orth>02</orth>\n",
      "    <lex disamb=\"1\"><base>02</base><ctag>num:pl:nom:m1:rec</ctag></lex>\n",
      "   </tok>\n",
      "   <ns/>\n",
      "   <tok>\n",
      "    <orth>.</orth>\n",
      "    <lex disamb=\"1\"><base>.</base><ctag>interp</ctag></lex>\n",
      "   </tok>\n",
      "   <ns/>\n",
      "   <tok>\n",
      "    <orth>2018</orth>\n",
      "    <lex disamb=\"1\"><base>2018</base><ctag>num:pl:nom:m1:rec</ctag></lex>\n",
      "   </tok>\n",
      "   <tok>\n",
      "    <orth>Przemówienie</orth>\n",
      "    <lex disamb=\"1\"><base>przemówienie</base><ctag>subst:sg:nom:n</ctag></lex>\n",
      "   </tok>\n",
      "   <tok>\n",
      "    <orth>Borisa</orth>\n",
      "    <lex disamb=\"1\"><base>Borisa</base><ctag>ign</ctag></lex>\n",
      "   </tok>\n",
      "   <tok>\n",
      "    <orth>Johnsona</orth>\n",
      "    <lex disamb=\"1\"><base>Johnson</base><ctag>subst:sg:gen:m1</ctag></lex>\n",
      "   </tok>\n",
      "   <tok>\n",
      "    <orth>ws</orth>\n",
      "    <lex disamb=\"1\"><base>w_sprawie</base><ctag>brev:pun</ctag></lex>\n",
      "   </tok>\n",
      "   <ns/>\n",
      "   <tok>\n",
      "    <orth>.</orth>\n",
      "    <lex disamb=\"1\"><base>.</base><ctag>interp</ctag></lex>\n",
      "   </tok>\n",
      "  </sentence>\n",
      " </chunk>\n",
      " <chunk id=\"ch2\" type=\"p\">\n",
      "  <sentence id=\"s2\">\n",
      "   <tok>\n",
      "    <orth>Brexitu</orth>\n",
      "    <lex disamb=\"1\"><base>Brexitu</base><ctag>ign</ctag></lex>\n",
      "   </tok>\n",
      "   <ns/>\n",
      "   <tok>\n",
      "    <orth>.</orth>\n",
      "    <lex disamb=\"1\"><base>.</base><ctag>interp</ctag></lex>\n",
      "   </tok>\n",
      "  </sentence>\n",
      " </chunk>\n",
      " <chunk id=\"ch3\" type=\"p\">\n",
      "  <sentence id=\"s3\">\n",
      "   <tok>\n",
      "    <orth>Jaki</orth>\n",
      "    <lex disamb=\"1\"><base>jak</base><ctag>subst:pl:nom:m2</ctag></lex>\n",
      "   </tok>\n",
      "   <tok>\n",
      "    <orth>miało</orth>\n",
      "    <lex disamb=\"1\"><base>mieć</base><ctag>praet:sg:n:imperf</ctag></lex>\n",
      "   </tok>\n",
      "   <tok>\n",
      "    <orth>cel</orth>\n",
      "    <lex disamb=\"1\"><base>cel</base><ctag>subst:sg:nom:m3</ctag></lex>\n",
      "   </tok>\n",
      "   <ns/>\n",
      "   <tok>\n",
      "    <orth>?</orth>\n",
      "    <lex disamb=\"1\"><base>?</base><ctag>interp</ctag></lex>\n",
      "   </tok>\n",
      "  </sentence>\n",
      " </chunk>\n",
      " <chunk id=\"ch4\" type=\"p\">\n",
      "  <sentence id=\"s4\">\n",
      "   <tok>\n",
      "    <orth>Brytyjski</orth>\n",
      "    <lex disamb=\"1\"><base>brytyjski</base><ctag>adj:sg:nom:m1:pos</ctag></lex>\n",
      "   </tok>\n",
      "   <tok>\n",
      "    <orth>minister</orth>\n",
      "    <lex disamb=\"1\"><base>minister</base><ctag>subst:sg:nom:m1</ctag></lex>\n",
      "   </tok>\n",
      "   <tok>\n",
      "    <orth>spraw</orth>\n",
      "    <lex disamb=\"1\"><base>sprawa</base><ctag>subst:pl:gen:f</ctag></lex>\n",
      "   </tok>\n",
      "   <tok>\n",
      "    <orth>zagranicznych</orth>\n",
      "    <lex disamb=\"1\"><base>zagraniczny</base><ctag>adj:pl:gen:m1:pos</ctag></lex>\n",
      "   </tok>\n",
      "   <tok>\n",
      "    <orth>Boris</orth>\n",
      "    <lex disamb=\"1\"><base>Boris</base><ctag>ign</ctag></lex>\n",
      "   </tok>\n",
      "   <tok>\n",
      "    <orth>Johnson</orth>\n",
      "    <lex disamb=\"1\"><base>Johnson</base><ctag>subst:sg:nom:m1</ctag></lex>\n",
      "   </tok>\n",
      "   <tok>\n",
      "    <orth>wygłosił</orth>\n",
      "    <lex disamb=\"1\"><base>wygłosić</base><ctag>praet:sg:m1:perf</ctag></lex>\n",
      "   </tok>\n",
      "   <tok>\n",
      "    <orth>dziś</orth>\n",
      "    <lex disamb=\"1\"><base>dziś</base><ctag>adv:pos</ctag></lex>\n",
      "   </tok>\n",
      "   <tok>\n",
      "    <orth>przemówienie</orth>\n",
      "    <lex disamb=\"1\"><base>przemówienie</base><ctag>subst:sg:nom:n</ctag></lex>\n",
      "   </tok>\n",
      "   <tok>\n",
      "    <orth>dotyczące</orth>\n",
      "    <lex disamb=\"1\"><base>dotyczyć</base><ctag>pact:sg:nom:n:imperf:aff</ctag></lex>\n",
      "   </tok>\n",
      "   <tok>\n",
      "    <orth>wychodzenia</orth>\n",
      "    <lex disamb=\"1\"><base>wychodzić</base><ctag>ger:sg:gen:n:imperf:aff</ctag></lex>\n",
      "   </tok>\n",
      "   <tok>\n",
      "    <orth>Wielkiej</orth>\n",
      "    <lex disamb=\"1\"><base>wielki</base><ctag>adj:sg:gen:f:pos</ctag></lex>\n",
      "   </tok>\n",
      "   <tok>\n",
      "    <orth>Brytanii</orth>\n",
      "    <lex disamb=\"1\"><base>Brytania</base><ctag>subst:sg:gen:f</ctag></lex>\n",
      "    <lex disamb=\"1\"><base>brytania</base><ctag>subst:sg:gen:f</ctag></lex>\n",
      "   </tok>\n",
      "   <tok>\n",
      "    <orth>z</orth>\n",
      "    <lex disamb=\"1\"><base>z</base><ctag>prep:gen:nwok</ctag></lex>\n",
      "   </tok>\n",
      "   <tok>\n",
      "    <orth>Unii</orth>\n",
      "    <lex disamb=\"1\"><base>unia</base><ctag>subst:sg:gen:f</ctag></lex>\n",
      "   </tok>\n",
      "   <tok>\n",
      "    <orth>Europejskiej</orth>\n",
      "    <lex disamb=\"1\"><base>europejski</base><ctag>adj:sg:gen:f:pos</ctag></lex>\n",
      "   </tok>\n",
      "   <ns/>\n",
      "   <tok>\n",
      "    <orth>.</orth>\n",
      "    <lex disamb=\"1\"><base>.</base><ctag>interp</ctag></lex>\n",
      "   </tok>\n",
      "  </sentence>\n",
      " </chunk>\n",
      " <chunk id=\"ch5\" type=\"p\">\n",
      "  <sentence id=\"s5\">\n",
      "   <tok>\n",
      "    <orth>Jaki</orth>\n",
      "    <lex disamb=\"1\"><base>jak</base><ctag>subst:pl:nom:m2</ctag></lex>\n",
      "   </tok>\n",
      "   <tok>\n",
      "    <orth>miało</orth>\n",
      "    <lex disamb=\"1\"><base>mieć</base><ctag>praet:sg:n:imperf</ctag></lex>\n",
      "   </tok>\n",
      "   <tok>\n",
      "    <orth>cel</orth>\n",
      "    <lex disamb=\"1\"><base>cel</base><ctag>subst:sg:nom:m3</ctag></lex>\n",
      "   </tok>\n",
      "   <ns/>\n",
      "   <tok>\n",
      "    <orth>?</orth>\n",
      "    <lex disamb=\"1\"><base>?</base><ctag>interp</ctag></lex>\n",
      "   </tok>\n",
      "  </sentence>\n",
      " </chunk>\n",
      " <chunk id=\"ch6\" type=\"p\">\n",
      "  <sentence id=\"s6\">\n",
      "   <tok>\n",
      "    <orth>O</orth>\n",
      "    <lex disamb=\"1\"><base>o</base><ctag>prep:acc</ctag></lex>\n",
      "   </tok>\n",
      "   <tok>\n",
      "    <orth>tym</orth>\n",
      "    <lex disamb=\"1\"><base>tym</base><ctag>conj</ctag></lex>\n",
      "   </tok>\n",
      "   <tok>\n",
      "    <orth>mówił</orth>\n",
      "    <lex disamb=\"1\"><base>mówić</base><ctag>praet:sg:m1:imperf</ctag></lex>\n",
      "   </tok>\n",
      "   <tok>\n",
      "    <orth>w</orth>\n",
      "    <lex disamb=\"1\"><base>w</base><ctag>prep:acc:nwok</ctag></lex>\n",
      "   </tok>\n",
      "   <tok>\n",
      "    <orth>audycji</orth>\n",
      "    <lex disamb=\"1\"><base>audycja</base><ctag>subst:sg:gen:f</ctag></lex>\n",
      "   </tok>\n",
      "   <tok>\n",
      "    <orth>&quot;</orth>\n",
      "    <lex disamb=\"1\"><base>&quot;</base><ctag>interp</ctag></lex>\n",
      "   </tok>\n",
      "   <ns/>\n",
      "   <tok>\n",
      "    <orth>Więcej</orth>\n",
      "    <lex disamb=\"1\"><base>dużo</base><ctag>adv:pos</ctag></lex>\n",
      "    <lex disamb=\"1\"><base>więcej</base><ctag>adv:pos</ctag></lex>\n",
      "   </tok>\n",
      "   <tok>\n",
      "    <orth>świata</orth>\n",
      "    <lex disamb=\"1\"><base>świat</base><ctag>subst:sg:gen:m3</ctag></lex>\n",
      "   </tok>\n",
      "   <ns/>\n",
      "   <tok>\n",
      "    <orth>&quot;</orth>\n",
      "    <lex disamb=\"1\"><base>&quot;</base><ctag>interp</ctag></lex>\n",
      "   </tok>\n",
      "   <tok>\n",
      "    <orth>Krzysztof</orth>\n",
      "    <lex disamb=\"1\"><base>Krzysztof</base><ctag>subst:sg:nom:m1</ctag></lex>\n",
      "   </tok>\n",
      "   <tok>\n",
      "    <orth>Winler</orth>\n",
      "    <lex disamb=\"1\"><base>Winler</base><ctag>ign</ctag></lex>\n",
      "   </tok>\n",
      "   <tok>\n",
      "    <orth>z</orth>\n",
      "    <lex disamb=\"1\"><base>z</base><ctag>prep:gen:nwok</ctag></lex>\n",
      "   </tok>\n",
      "   <tok>\n",
      "    <orth>Uniwersytetu</orth>\n",
      "    <lex disamb=\"1\"><base>uniwersytet</base><ctag>subst:sg:gen:m3</ctag></lex>\n",
      "   </tok>\n",
      "   <tok>\n",
      "    <orth>Warszawskiego</orth>\n",
      "    <lex disamb=\"1\"><base>Warszawskie</base><ctag>subst:sg:gen:n</ctag></lex>\n",
      "   </tok>\n",
      "   <ns/>\n",
      "   <tok>\n",
      "    <orth>.</orth>\n",
      "    <lex disamb=\"1\"><base>.</base><ctag>interp</ctag></lex>\n",
      "   </tok>\n",
      "  </sentence>\n",
      " </chunk>\n",
      "</chunkList>\n",
      "\n"
     ]
    }
   ],
   "source": [
    "import zipfile\n",
    "\n",
    "zf = zipfile.ZipFile(path, 'r')\n",
    "\n",
    "print(\"Number of documents: %d\" % len(zf.namelist()))\n",
    "\n",
    "print(\"\")\n",
    "print(\"First 10 files in the package:\")\n",
    "print(zf.namelist()[:10])\n",
    "\n",
    "print(\"\")\n",
    "print(\"Content of the first file:\")\n",
    "data = zf.read(zf.namelist()[0]).decode(\"utf-8-sig\")\n",
    "print(data)"
   ]
  },
  {
   "cell_type": "markdown",
   "metadata": {},
   "source": [
    "[Back to agenda](agenda.ipynb)"
   ]
  }
 ],
 "metadata": {
  "kernelspec": {
   "display_name": "Python 3",
   "language": "python",
   "name": "python3"
  },
  "language_info": {
   "codemirror_mode": {
    "name": "ipython",
    "version": 3
   },
   "file_extension": ".py",
   "mimetype": "text/x-python",
   "name": "python",
   "nbconvert_exporter": "python",
   "pygments_lexer": "ipython3",
   "version": "3.5.2"
  }
 },
 "nbformat": 4,
 "nbformat_minor": 2
}
