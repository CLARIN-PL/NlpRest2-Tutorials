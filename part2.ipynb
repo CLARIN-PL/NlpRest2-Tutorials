{
 "cells": [
  {
   "cell_type": "markdown",
   "metadata": {},
   "source": [
    "# Part 2 — Finding document duplicates and near duplicates using WebSty"
   ]
  },
  {
   "cell_type": "markdown",
   "metadata": {},
   "source": [
    "## Demo dataset\n",
    "\n"
   ]
  },
  {
   "cell_type": "markdown",
   "metadata": {},
   "source": [
    "## Uploading the dataset"
   ]
  },
  {
   "cell_type": "code",
   "execution_count": null,
   "metadata": {},
   "outputs": [],
   "source": []
  },
  {
   "cell_type": "markdown",
   "metadata": {},
   "source": [
    "## Getting the similarity matrix"
   ]
  },
  {
   "cell_type": "code",
   "execution_count": null,
   "metadata": {},
   "outputs": [],
   "source": [
    "url_base = \"http://ws.clarin-pl.eu/nlprest2/base\"\n",
    "request = \"/requests/cluto/81f393ce-6544-415e-9bef-038b574039a5\"\n",
    "\n",
    "# clusters.json  clutoout.txt  data.json  distance.json  labels.json  \n",
    "# matrix.txt  result.clustering  result.json  result.png  result.xlsx  \n",
    "# rowlabels.pkl  similarity.json  weighted.json\n",
    "\n",
    "import requests\n",
    "import json\n",
    "import numpy as np\n",
    "\n",
    "\n",
    "url = url_base + \"/download\" + request + \"/similarity.json\"\n",
    "print(url)\n",
    "data = requests.get(url).content.decode(\"utf-8-sig\")\n",
    "print(\"Data size: %d\" % len(data))"
   ]
  },
  {
   "cell_type": "code",
   "execution_count": null,
   "metadata": {},
   "outputs": [],
   "source": [
    "parsed = json.loads(data)\n",
    "\n",
    "rowlabels = parsed[\"rowlabels\"]\n",
    "similarities = parsed[\"arr\"]\n",
    "\n",
    "document_similarity = []\n",
    "for x in range(0,len(rowlabels)):\n",
    "    for y in range(0,x):\n",
    "        sim = similarities[x][y]\n",
    "        if sim > 0.0:\n",
    "            document_similarity.append((sim, x, y))\n",
    "            \n",
    "document_similarity_sorted = sorted(document_similarity, key=lambda t: t[0], reverse=True)\n",
    "            \n",
    "for t in document_similarity_sorted[:20]:\n",
    "    print(\"%6.4f %5d %5d\" % t)"
   ]
  },
  {
   "cell_type": "markdown",
   "metadata": {},
   "source": [
    "## Postprocessing the similarity matrix"
   ]
  },
  {
   "cell_type": "code",
   "execution_count": null,
   "metadata": {},
   "outputs": [],
   "source": [
    "import numpy as np\n",
    "\n",
    "def create_neighbourhood_matrix(similarities, threshold):\n",
    "    matrix = np.zeros(shape=(len(similarities), len(similarities)))\n",
    "    for x in range(0,len(rowlabels)):\n",
    "        for y in range(0,len(rowlabels)):\n",
    "            matrix[x,y] = 1 if similarities[x][y] >= threshold else 0\n",
    "    return matrix\n",
    "\n",
    "matrix = create_neighbourhood_matrix(similarities, 0.7)"
   ]
  },
  {
   "cell_type": "code",
   "execution_count": null,
   "metadata": {},
   "outputs": [],
   "source": [
    "def get_row_index_with_highest_sum(matrix):\n",
    "    sums = [np.sum(matrix[i,:]) for i in range(0, len(matrix))]\n",
    "    return sums.index(max(sums))\n",
    " \n",
    "def add_into_group(matrix, ind):\n",
    "    change = True\n",
    "    indexes = []\n",
    "    for col in range(len(matrix)):\n",
    "        if matrix[ind, col] == 1:\n",
    "            indexes.append(col)\n",
    "    while change == True:\n",
    "        change = False\n",
    "        numIndexes = len(indexes)\n",
    "        for i in indexes:\n",
    "            for col in range(len(matrix)):\n",
    "                if matrix[i, col] == 1:\n",
    "                    if col not in indexes:\n",
    "                        indexes.append(col)\n",
    "        numIndexes2 = len(indexes)\n",
    "        if numIndexes != numIndexes2:\n",
    "            change = True\n",
    "    return indexes\n",
    " \n",
    "def reset_rows_and_cols(matrix, indexes):\n",
    "    for i in indexes:\n",
    "        matrix[i,:] = 0\n",
    "        matrix[:,i] = 0\n",
    "    return matrix\n",
    "\n",
    "def cluster_matrix(matrix):\n",
    "    groups = []\n",
    "    while np.sum(matrix) > 0:\n",
    "        group = []\n",
    "        row = get_row_index_with_highest_sum(matrix)\n",
    "        indexes = add_into_group(matrix, row)\n",
    "        groups.append(indexes)\n",
    "        matrix = reset_rows_and_cols(matrix, indexes)\n",
    "    return groups\n",
    "\n",
    "groups = cluster_matrix(matrix)\n",
    "\n"
   ]
  },
  {
   "cell_type": "code",
   "execution_count": null,
   "metadata": {},
   "outputs": [],
   "source": [
    "print (\"Number of distinct groups: %d\" % len(groups))\n",
    "\n",
    "print (\"Groups with more than one element:\")\n",
    "for i in range(len(groups)):\n",
    "    group = groups[i]\n",
    "    if len(group) > 1:\n",
    "        print(\"  {}) {}\".format(i+1, sorted(group)))"
   ]
  },
  {
   "cell_type": "markdown",
   "metadata": {},
   "source": [
    "[Back to agenda](agenda.ipynb)"
   ]
  }
 ],
 "metadata": {
  "kernelspec": {
   "display_name": "Python 3",
   "language": "python",
   "name": "python3"
  },
  "language_info": {
   "codemirror_mode": {
    "name": "ipython",
    "version": 3
   },
   "file_extension": ".py",
   "mimetype": "text/x-python",
   "name": "python",
   "nbconvert_exporter": "python",
   "pygments_lexer": "ipython3",
   "version": "3.5.2"
  }
 },
 "nbformat": 4,
 "nbformat_minor": 2
}
