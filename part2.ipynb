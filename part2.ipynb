{
 "cells": [
  {
   "cell_type": "markdown",
   "metadata": {},
   "source": [
    "# Part 2 — Finding duplicates and near duplicates using WebSty\n",
    "\n",
    "The goal of this tutorial is to use WebSty to detect groups of similar documents. Then for each group select the most representative document that will represent given group.\n",
    "\n",
    "### Actions:\n",
    "1. Upload sample dataset to CLARIN-PL WS\n",
    "2. Run the WebSty task on the uploaded dataset\n",
    "3. Download the similarity matrix\n",
    "4. Create groups of similar documents\n",
    "5. Analyze the similarity of document pairs\n",
    "\n",
    "### Links and resources\n",
    "\n",
    "1. http://ws.clarin-pl.eu/websty.shtml\n",
    "2. http://clarin-pl.eu/wp-content/uploads/2017/02/WebSty.piatek.I.1805.pdf\n",
    "3. https://www.dropbox.com/s/54gmpdd6x3rx4gq/brexit_pl.zip?dl=1"
   ]
  },
  {
   "cell_type": "markdown",
   "metadata": {},
   "source": [
    "## 1. Uploading the dataset"
   ]
  },
  {
   "cell_type": "code",
   "execution_count": 1,
   "metadata": {},
   "outputs": [],
   "source": [
    "import json\n",
    "import requests\n",
    "\n",
    "clarinpl_url = \"http://ws.clarin-pl.eu/nlprest2/base\"\n",
    "user_mail = \"demo2019@nlpday.pl\""
   ]
  },
  {
   "cell_type": "code",
   "execution_count": 2,
   "metadata": {},
   "outputs": [
    {
     "name": "stdout",
     "output_type": "stream",
     "text": [
      "Dataset saved to documents.zip\n",
      "Size of the package: 800523\n"
     ]
    }
   ],
   "source": [
    "import urllib.request\n",
    "\n",
    "url = clarinpl_url + \"/upload/\"\n",
    "url_zip = \"https://www.dropbox.com/s/54gmpdd6x3rx4gq/brexit_pl.zip?dl=1\"\n",
    "\n",
    "doc = urllib.request.urlopen(url_zip).read()\n",
    "\n",
    "docuemnts_zip = \"documents.zip\"\n",
    "file = open(docuemnts_zip, \"w+b\")\n",
    "file.write(doc)\n",
    "file.close()\n",
    "print(\"Dataset saved to %s\" % docuemnts_zip)\n",
    "    \n",
    "print(\"Size of the package: %d\" % len(doc))"
   ]
  },
  {
   "cell_type": "code",
   "execution_count": 3,
   "metadata": {},
   "outputs": [
    {
     "name": "stdout",
     "output_type": "stream",
     "text": [
      "File handler: /users/default/b8a4afe1-9322-4867-bf23-a18aad0527af\n",
      "URL: http://ws.clarin-pl.eu/nlprest2/base/download/users/default/b8a4afe1-9322-4867-bf23-a18aad0527af\n"
     ]
    }
   ],
   "source": [
    "headers = {'content-type': 'binary/octet-stream'}\n",
    "\n",
    "file_handler = requests.post(url, data=doc, headers=headers).text\n",
    "print(\"File handler: %s\" % file_handler)\n",
    "print(\"URL: %s/download%s\" % (clarinpl_url, file_handler))"
   ]
  },
  {
   "cell_type": "markdown",
   "metadata": {},
   "source": [
    "## 2. Run the WebSty task "
   ]
  },
  {
   "cell_type": "code",
   "execution_count": 4,
   "metadata": {},
   "outputs": [
    {
     "name": "stdout",
     "output_type": "stream",
     "text": [
      "LPMN: filezip(/users/default/b8a4afe1-9322-4867-bf23-a18aad0527af)|div(20000)|wcrft2|fextor2({\"features\":\"base interp_signs bigrams\",\"base_modification\":\"startlist\",\"orth_modification\":\"startlist\",\"lang\":\"pl\",\"filters\":{\"base\":[{\"type\":\"lemma_stoplist\",\"args\":{\"stoplist\":\"@resources/fextor/ml/polish_base_startlist.txt\"}}]}})|dir|out(\"output_fextor\")|featfilt2({\"weighting\":\"all:sm-mi_simple\",\"filter\":\"min_tf-1 min_df-1\",\"similarity\":\"cosine\"})|cluto({\"no_clusters\":10,\"analysis_type\":\"plottree\"})\n",
      "Task id: dbe82a61-f4a9-4da1-8857-09f6e2f93f66\n",
      "[  0 s] Status: PROCESSING; Progress:   0.00%\n",
      "[  1 s] Status: PROCESSING; Progress:   0.00%\n",
      "[  2 s] Status: PROCESSING; Progress:  13.12%\n",
      "[  4 s] Status: PROCESSING; Progress:  27.03%\n",
      "[  5 s] Status: PROCESSING; Progress:  50.67%\n",
      "[  6 s] Status: PROCESSING; Progress:  65.31%\n",
      "[  7 s] Status: PROCESSING; Progress:  80.16%\n",
      "[  8 s] Status: PROCESSING; Progress:  99.53%\n",
      "[ 10 s] Status: PROCESSING; Progress:  99.53%\n",
      "[ 11 s] Status: PROCESSING; Progress:  99.53%\n",
      "[ 12 s] Status: PROCESSING; Progress:  99.53%\n",
      "[ 13 s] Status: PROCESSING; Progress:  99.53%\n",
      "[ 14 s] Status: PROCESSING; Progress:  99.53%\n",
      "[ 16 s] Status: PROCESSING; Progress:  99.53%\n",
      "[ 17 s] Status: PROCESSING; Progress:  99.53%\n",
      "[ 18 s] Status: PROCESSING; Progress:  99.53%\n",
      "[ 19 s] Status: PROCESSING; Progress:  99.53%\n",
      "[ 20 s] Status: PROCESSING; Progress:  99.93%\n",
      "[ 22 s] Status: PROCESSING; Progress:  99.93%\n",
      "{'value': {'output_fextor': [{'name': 'dane', 'fileID': '/requests/dir/f95bb650-9dad-4a45-9695-207b1e08f3e7'}], 'result': [{'name': 'dane', 'fileID': '/requests/cluto/eddc4510-d0cb-4088-9b1a-58ac1d71469d'}]}, 'status': 'DONE'}\n",
      "[ 23 s] Status: DONE      ; Progress: 100.00%\n",
      "Result file id: /requests/cluto/eddc4510-d0cb-4088-9b1a-58ac1d71469d\n"
     ]
    }
   ],
   "source": [
    "import time\n",
    "\n",
    "url = clarinpl_url + \"/startTask\"\n",
    "\n",
    "lpmn = 'filezip(%s)|div(20000)|wcrft2' % file_handler\n",
    "lpmn += '|fextor2({\"features\":\"base interp_signs bigrams\",\"base_modification\":\"startlist\",\"orth_modification\":\"startlist\",\"lang\":\"pl\",\"filters\":{\"base\":[{\"type\":\"lemma_stoplist\",\"args\":{\"stoplist\":\"@resources/fextor/ml/polish_base_startlist.txt\"}}]}})'\n",
    "lpmn += '|dir|out(\"output_fextor\")'\n",
    "lpmn += '|featfilt2({\"weighting\":\"all:sm-mi_simple\",\"filter\":\"min_tf-1 min_df-1\",\"similarity\":\"cosine\"})'\n",
    "lpmn += '|cluto({\"no_clusters\":10,\"analysis_type\":\"plottree\"})'\n",
    "\n",
    "print(\"LPMN: %s\" % lpmn)\n",
    "\n",
    "payload = {'lpmn': lpmn, 'user': user_mail}\n",
    "headers = {'content-type': 'application/json'}\n",
    "\n",
    "start = time.time()\n",
    "task_id = requests.post(url, data=json.dumps(payload), headers=headers).text\n",
    "print(\"Task id: %s\" % task_id)\n",
    "\n",
    "# Check task status\n",
    "processing = True\n",
    "file_id = None\n",
    "\n",
    "while processing:\n",
    "  data = requests.get(clarinpl_url + \"/getStatus/\" + task_id).text\n",
    "  result = json.loads(data)\n",
    "  end = time.time()\n",
    "  if result[\"status\"] == \"PROCESSING\":\n",
    "    print(\"[%3d s] Status: %s; Progress: %6.2f%%\" % (end-start, result[\"status\"], result[\"value\"]*100))\n",
    "    time.sleep(1)\n",
    "  elif result[\"status\"] == \"DONE\":\n",
    "    print(result)\n",
    "    file_id = result[\"value\"]['result'][0][\"fileID\"]\n",
    "    processing = False  \n",
    "    print(\"[%3d s] Status: DONE      ; Progress: 100.00%%\" % (end-start))\n",
    "  else:\n",
    "    print(data)\n",
    "    processing = False  \n",
    "    \n",
    "print(\"Result file id: %s\" % file_id)"
   ]
  },
  {
   "cell_type": "markdown",
   "metadata": {},
   "source": [
    "## 3. Download the similarity matrix"
   ]
  },
  {
   "cell_type": "code",
   "execution_count": 5,
   "metadata": {},
   "outputs": [
    {
     "name": "stdout",
     "output_type": "stream",
     "text": [
      "http://ws.clarin-pl.eu/nlprest2/base/download/requests/cluto/eddc4510-d0cb-4088-9b1a-58ac1d71469d/similarity.json\n",
      "Data size: 1318748\n"
     ]
    }
   ],
   "source": [
    "# clusters.json  clutoout.txt  data.json  distance.json  labels.json  \n",
    "# matrix.txt  result.clustering  result.json  result.png  result.xlsx  \n",
    "# rowlabels.pkl  similarity.json  weighted.json\n",
    "\n",
    "# import numpy as np\n",
    "\n",
    "url = clarinpl_url + \"/download\" + file_id + \"/similarity.json\"\n",
    "print(url)\n",
    "data = requests.get(url).content.decode(\"utf-8-sig\")\n",
    "print(\"Data size: %d\" % len(data))"
   ]
  },
  {
   "cell_type": "code",
   "execution_count": 6,
   "metadata": {},
   "outputs": [
    {
     "name": "stdout",
     "output_type": "stream",
     "text": [
      "0.9992   434   286\n",
      "0.9928   388   234\n",
      "0.9913   435   432\n",
      "0.9905   195   151\n",
      "0.9902   405   138\n",
      "0.9890   377    27\n",
      "0.9872   456   253\n",
      "0.9843   422    98\n",
      "0.9803   434   377\n",
      "0.9795   377   286\n",
      "0.9794   286    27\n",
      "0.9790   445   405\n",
      "0.9777   434    27\n",
      "0.9775   432   251\n",
      "0.9754   435   251\n",
      "0.9752   397   134\n",
      "0.9747   313    31\n",
      "0.9731   363    18\n",
      "0.9696   445   138\n",
      "0.9585   401   380\n"
     ]
    }
   ],
   "source": [
    "parsed = json.loads(data)\n",
    "\n",
    "rowlabels = parsed[\"rowlabels\"]\n",
    "similarities = parsed[\"arr\"]\n",
    "\n",
    "document_similarity = []\n",
    "for x in range(0,len(rowlabels)):\n",
    "    for y in range(0,x):\n",
    "        sim = similarities[x][y]\n",
    "        if sim > 0.0:\n",
    "            document_similarity.append((sim, x, y))\n",
    "            \n",
    "document_similarity_sorted = sorted(document_similarity, key=lambda t: t[0], reverse=True)\n",
    "            \n",
    "for t in document_similarity_sorted[:20]:\n",
    "    print(\"%6.4f %5d %5d\" % t)"
   ]
  },
  {
   "cell_type": "markdown",
   "metadata": {},
   "source": [
    "## 4. Create groups of similar documents\n",
    "\n",
    "Initial similarity matrix\n",
    "```\n",
    "1.0  0.8  0.7  0.0  0.0\n",
    "0.8  1.0  0.8  0.0  0.0\n",
    "0.7  0.8  1.0  0.3  0.2\n",
    "0.0  0.0  0.3  1.0  0.9\n",
    "0.0  0.0  0.2  0.9  1.0\n",
    "```\n",
    "\n",
    "Filtering similar documents with a threshold (0.7)\n",
    "```\n",
    "1.0  1.0  1.0  ---  ---\n",
    "1.0  1.0  1.0  ---  ---\n",
    "1.0  1.0  1.0  ---  ---\n",
    "---  ---  ---  1.0  1.0\n",
    "---  ---  ---  1.0  1.0\n",
    "```\n"
   ]
  },
  {
   "cell_type": "code",
   "execution_count": 7,
   "metadata": {},
   "outputs": [],
   "source": [
    "import numpy as np\n",
    "\n",
    "def create_neighbourhood_matrix(similarities, threshold):\n",
    "    matrix = np.zeros(shape=(len(similarities), len(similarities)))\n",
    "    for x in range(0,len(rowlabels)):\n",
    "        for y in range(0,len(rowlabels)):\n",
    "            matrix[x,y] = 1 if similarities[x][y] >= threshold else 0\n",
    "    return matrix\n",
    "\n",
    "matrix = create_neighbourhood_matrix(similarities, 0.7)"
   ]
  },
  {
   "cell_type": "code",
   "execution_count": 8,
   "metadata": {},
   "outputs": [],
   "source": [
    "def get_row_index_with_highest_sum(matrix):\n",
    "    sums = [np.sum(matrix[i,:]) for i in range(0, len(matrix))]\n",
    "    return sums.index(max(sums))\n",
    " \n",
    "def add_into_group(matrix, ind):\n",
    "    change = True\n",
    "    indexes = []\n",
    "    for col in range(len(matrix)):\n",
    "        if matrix[ind, col] == 1:\n",
    "            indexes.append(col)\n",
    "    while change == True:\n",
    "        change = False\n",
    "        numIndexes = len(indexes)\n",
    "        for i in indexes:\n",
    "            for col in range(len(matrix)):\n",
    "                if matrix[i, col] == 1:\n",
    "                    if col not in indexes:\n",
    "                        indexes.append(col)\n",
    "        numIndexes2 = len(indexes)\n",
    "        if numIndexes != numIndexes2:\n",
    "            change = True\n",
    "    return indexes\n",
    " \n",
    "def reset_rows_and_cols(matrix, indexes):\n",
    "    for i in indexes:\n",
    "        matrix[i,:] = 0\n",
    "        matrix[:,i] = 0\n",
    "    return matrix\n",
    "\n",
    "def cluster_matrix(matrix):\n",
    "    groups = []\n",
    "    while np.sum(matrix) > 0:\n",
    "        group = []\n",
    "        row = get_row_index_with_highest_sum(matrix)\n",
    "        indexes = add_into_group(matrix, row)\n",
    "        groups.append(indexes)\n",
    "        matrix = reset_rows_and_cols(matrix, indexes)\n",
    "    return groups\n",
    "\n",
    "groups = cluster_matrix(matrix)"
   ]
  },
  {
   "cell_type": "code",
   "execution_count": 9,
   "metadata": {},
   "outputs": [
    {
     "name": "stdout",
     "output_type": "stream",
     "text": [
      "Number of distinct groups: 432\n",
      "Groups with more than one element:\n",
      "  1) [36, 62, 76, 119, 160]\n",
      "  2) [49, 65, 72, 267, 420]\n",
      "  3) [130, 344, 361, 362, 406]\n",
      "  4) [27, 286, 377, 434]\n",
      "  5) [40, 71, 319, 484]\n",
      "  6) [138, 405, 423, 445]\n",
      "  7) [251, 274, 432, 435]\n",
      "  8) [30, 93, 427]\n",
      "  9) [140, 340, 357]\n",
      "  10) [0, 57]\n",
      "  11) [3, 260]\n",
      "  12) [4, 273]\n",
      "  13) [6, 23]\n",
      "  14) [18, 363]\n",
      "  15) [19, 342]\n",
      "  16) [26, 297]\n",
      "  17) [31, 313]\n",
      "  18) [44, 165]\n",
      "  19) [47, 81]\n",
      "  20) [92, 486]\n",
      "  21) [98, 422]\n",
      "  22) [106, 374]\n",
      "  23) [111, 389]\n",
      "  24) [126, 348]\n",
      "  25) [134, 397]\n",
      "  26) [139, 376]\n",
      "  27) [142, 464]\n",
      "  28) [151, 195]\n",
      "  29) [167, 255]\n",
      "  30) [179, 480]\n",
      "  31) [182, 328]\n",
      "  32) [184, 240]\n",
      "  33) [196, 215]\n",
      "  34) [202, 421]\n",
      "  35) [205, 327]\n",
      "  36) [224, 229]\n",
      "  37) [234, 388]\n",
      "  38) [242, 446]\n",
      "  39) [248, 429]\n",
      "  40) [253, 456]\n",
      "  41) [276, 347]\n",
      "  42) [320, 471]\n",
      "  43) [338, 402]\n",
      "  44) [356, 444]\n",
      "  45) [358, 457]\n",
      "  46) [367, 490]\n",
      "  47) [380, 401]\n",
      "  48) [383, 467]\n",
      "  49) [394, 491]\n"
     ]
    }
   ],
   "source": [
    "print (\"Number of distinct groups: %d\" % len(groups))\n",
    "\n",
    "print (\"Groups with more than one element:\")\n",
    "for i in range(len(groups)):\n",
    "    group = groups[i]\n",
    "    if len(group) > 1:\n",
    "        print(\"  {}) {}\".format(i+1, sorted(group)))"
   ]
  },
  {
   "cell_type": "markdown",
   "metadata": {},
   "source": [
    "## 5. Comparing documents within the groups\n",
    "\n",
    "Compare documents from 10th group."
   ]
  },
  {
   "cell_type": "code",
   "execution_count": 10,
   "metadata": {},
   "outputs": [
    {
     "name": "stdout",
     "output_type": "stream",
     "text": [
      "pl-465\n",
      "pl\n",
      "2018-01-17\n",
      "http://www.gazetaprawna.pl/artykuly/1098490,izba-gmin-przeglosowala-ustawe-o-wyjsciu-z-ue.html\n",
      "Wielka Brytania: Izba Gmin przegłosowała ustawę o wyjściu z UE\r\n",
      "\n",
      "Uchwalona Ustawa o Wyjściu z Unii Europejskiej odwołuje akt z 1972 roku, na mocy którego Wielka Brytania stała się członkiem Wspólnoty. \"Ta ustawa jest kluczowa dla przygotowania kraju do historycznego kroku, jakim będzie wystąpienie z Unii Europejskiej\" - powiedział jeszcze przed głosowaniem minister ds. Brexitu David Davis. Wynik głosowania stanowi sukces premier Theresy May nad oponentami politycznymi, którzy życzyliby sobie bardziej \"miękkiego\" rozwodu z UE , ale w Izbie Lordów, gdzie Partia Konserwatywna nie ma większości, może nie być tak łatwo - komentuje agencja Reutera.\n",
      "\n",
      "Wyższa izba parlamentu zacznie teraz analizę ustawy , co może trwać kilka miesięcy - zaznacza agencja. Wszelkie zmiany w tekście będą musiały być zaaprobowane przez Izbę Gmin. Oznacza to, że cały proces legislacyjny może potrwać do maja. Lider opozycyjnej Partii Pracy Jeremy Corbyn poinstruował członków swojego ugrupowania, żeby głosowali przeciwko ustawie, argumentując to tym, że nie zawarto w niej szeregu gwarancji dotyczących pracowniczych i konsumenckich.\n",
      "\n",
      "Zgodnie z aktualnym harmonogramem Wielka Brytania musi wystąpić z UE przed 29 marca 2019 roku.\n",
      "\n",
      "pl-1847\n",
      "pl\n",
      "2018-01-18\n",
      "http://zw.lt/swiat/wielka-brytania-izba-gmin-przeglosowala-ustawe-o-wyjsciu-z-ue/\n",
      "Wielka Brytania: Izba Gmin przegłosowała ustawę o wyjściu z UE\r\n",
      "\n",
      "Uchwalona Ustawa o Wyjściu z Unii Europejskiej odwołuje akt z 1972 roku, na mocy którego Wielka Brytania stała się członkiem Wspólnoty. „Ta ustawa jest kluczowa dla przygotowania kraju do historycznego kroku, jakim będzie wystąpienie z Unii Europejskiej” – powiedział jeszcze przed głosowaniem minister ds. Brexitu David Davis. Wynik głosowania stanowi sukces premier Theresy May nad oponentami politycznymi, którzy życzyliby sobie bardziej „miękkiego” rozwodu z UE, ale w Izbie Lordów, gdzie Partia Konserwatywna nie ma większości, może nie być tak łatwo – komentuje agencja Reutera. Wyższa izba parlamentu zacznie teraz analizę ustawy, co może trwać kilka miesięcy – zaznacza agencja. Wszelkie zmiany w tekście będą musiały być zaaprobowane przez Izbę Gmin. Oznacza to, że cały proces legislacyjny może potrwać do maja. Lider opozycyjnej Partii Pracy Jeremy Corbyn poinstruował członków swojego ugrupowania, żeby głosowali przeciwko ustawie, argumentując to tym, że nie zawarto w niej szeregu gwarancji dotyczących praw pracowniczych i konsumenckich. Zgodnie z aktualnym harmonogramem Wielka Brytania musi wystąpić z UE przed 29 marca 2019 roku.\n",
      "\n"
     ]
    }
   ],
   "source": [
    "import zipfile\n",
    "\n",
    "doc_a = rowlabels[0]\n",
    "doc_b = rowlabels[57]\n",
    "\n",
    "def restore_zip_filename(filename):\n",
    "    return filename.replace(\"%\", \"/\")[:-2]\n",
    "\n",
    "doc_a = restore_zip_filename(doc_a)\n",
    "doc_b = restore_zip_filename(doc_b)\n",
    "\n",
    "zf = zipfile.ZipFile(docuemnts_zip, 'r')\n",
    "doc_a_content = zf.read(doc_a).decode(\"utf-8-sig\")\n",
    "doc_b_content = zf.read(doc_b).decode(\"utf-8-sig\")\n",
    "\n",
    "print(doc_a_content)\n",
    "print(doc_b_content)"
   ]
  },
  {
   "cell_type": "markdown",
   "metadata": {},
   "source": [
    "### Compare documents using difflib"
   ]
  },
  {
   "cell_type": "code",
   "execution_count": 11,
   "metadata": {},
   "outputs": [
    {
     "name": "stdout",
     "output_type": "stream",
     "text": [
      "----------------------------------------------------------------------------------------------------\n",
      "\u001b[30m[1]\u001b[0m\u001b[34mAla \u001b[0m\u001b[30m[2]\u001b[0m\u001b[31mma \u001b[0m\u001b[30m[4]\u001b[0m\u001b[31mkota \u001b[0m\u001b[30m[5]\u001b[0m\u001b[32mi psa \u001b[0m\n",
      "Overlap ratio: 0.4000\n",
      "----------------------------------------------------------------------------------------------------\n",
      "\u001b[30m[1]\u001b[0m\u001b[34mAnia \u001b[0m\u001b[30m[2]\u001b[0m\u001b[31mma \u001b[0m\u001b[30m[3]\u001b[0m\u001b[32mczarnego \u001b[0m\u001b[30m[4]\u001b[0m\u001b[31mkota \u001b[0m\n",
      "Overlap ratio: 0.5000\n",
      "----------------------------------------------------------------------------------------------------\n",
      "Colors: \u001b[31min both\u001b[0m, \u001b[34mreplaced\u001b[0m, \u001b[32mnot present in the other text\u001b[0m\n"
     ]
    }
   ],
   "source": [
    "from termcolor import colored\n",
    "import difflib\n",
    "\n",
    "class Word:\n",
    "\n",
    "    def __init__(self, orth, after):\n",
    "        self.orth = orth\n",
    "        self.after = after\n",
    "\n",
    "        \n",
    "class DocumentDiff:\n",
    "    \n",
    "    def __init__(self, s1, s2):\n",
    "        self.s1 = s1\n",
    "        self.s2 = s2\n",
    "        self.overlap = 0.0\n",
    "        self.diff1 = \"\"\n",
    "        self.diff2 = \"\"\n",
    "        self.calculate()\n",
    "        \n",
    "    def seq(self, index, words, begin, end, color):\n",
    "        str = \"\"\n",
    "        for w in words[begin:end]:\n",
    "            str += w.orth + w.after\n",
    "        return colored(\"[%d]\" % index, 'grey') + colored(str, color)\n",
    "                \n",
    "    def calculate(self):\n",
    "        w1 = [w.orth for w in self.s1]\n",
    "        w2 = [w.orth for w in self.s2]\n",
    "        matcher = difflib.SequenceMatcher(None, w1, w2)\n",
    "        index = 1\n",
    "        for tag, i1, i2, j1, j2 in matcher.get_opcodes():   \n",
    "            if tag == 'delete':\n",
    "                self.diff1 += self.seq(index, self.s1, i1, i2, 'green')\n",
    "            elif tag == 'equal':\n",
    "                self.overlap += (i2-i1)\n",
    "                self.diff1 += self.seq(index, self.s1, i1, i2, 'red')\n",
    "                self.diff2 += self.seq(index, self.s2, j1, j2, 'red')                \n",
    "            elif tag == 'insert':\n",
    "                self.diff2 += self.seq(index, self.s2, j1, j2, 'green')                \n",
    "            elif tag == 'replace':\n",
    "                self.diff1 += self.seq(index, self.s1, i1, i2, 'blue')\n",
    "                self.diff2 += self.seq(index, self.s2, j1, j2, 'blue')                \n",
    "            index += 1\n",
    "            \n",
    "    def get_overlap_doc1(self):\n",
    "        return self.overlap/len(self.s1)\n",
    "    \n",
    "    def get_overlap_doc2(self):\n",
    "        return self.overlap/len(self.s2)\n",
    "            \n",
    "    def print_diff(self):\n",
    "        print(\"-\"*100)\n",
    "        print(self.diff1)\n",
    "        print(\"Overlap ratio: %6.4f\" % self.get_overlap_doc1())\n",
    "        print(\"-\"*100)\n",
    "        print(self.diff2)\n",
    "        print(\"Overlap ratio: %6.4f\" % self.get_overlap_doc2())\n",
    "        print(\"-\"*100)\n",
    "        \n",
    "        \n",
    "s1 = [Word(w, \" \") for w in \"Ala ma kota i psa\".split(\" \")]\n",
    "s2 = [Word(w, \" \") for w in \"Ania ma czarnego kota\".split(\" \")]\n",
    "\n",
    "DocumentDiff(s1, s2).print_diff()\n",
    "\n",
    "print(\"Colors: \" + colored(\"in both\", 'red') + \", \"\\\n",
    "      + colored(\"replaced\", 'blue') + \", \"\\\n",
    "      + colored(\"not present in the other text\", 'green'))"
   ]
  },
  {
   "cell_type": "markdown",
   "metadata": {},
   "source": [
    "### Document as an array of text blocks splitted by new line character"
   ]
  },
  {
   "cell_type": "code",
   "execution_count": 12,
   "metadata": {},
   "outputs": [
    {
     "name": "stdout",
     "output_type": "stream",
     "text": [
      "----------------------------------------------------------------------------------------------------\n",
      "\u001b[30m[1]\u001b[0m\u001b[34mpl-465\n",
      "\u001b[0m\u001b[30m[2]\u001b[0m\u001b[31mpl\n",
      "\u001b[0m\u001b[30m[3]\u001b[0m\u001b[34m2018-01-17\n",
      "http://www.gazetaprawna.pl/artykuly/1098490,izba-gmin-przeglosowala-ustawe-o-wyjsciu-z-ue.html\n",
      "\u001b[0m\u001b[30m[4]\u001b[0m\u001b[31mWielka Brytania: Izba Gmin przegłosowała ustawę o wyjściu z UE\r\n",
      "\n",
      "\u001b[0m\u001b[30m[5]\u001b[0m\u001b[34mUchwalona Ustawa o Wyjściu z Unii Europejskiej odwołuje akt z 1972 roku, na mocy którego Wielka Brytania stała się członkiem Wspólnoty. \"Ta ustawa jest kluczowa dla przygotowania kraju do historycznego kroku, jakim będzie wystąpienie z Unii Europejskiej\" - powiedział jeszcze przed głosowaniem minister ds. Brexitu David Davis. Wynik głosowania stanowi sukces premier Theresy May nad oponentami politycznymi, którzy życzyliby sobie bardziej \"miękkiego\" rozwodu z UE , ale w Izbie Lordów, gdzie Partia Konserwatywna nie ma większości, może nie być tak łatwo - komentuje agencja Reutera.\n",
      "\u001b[0m\u001b[30m[6]\u001b[0m\u001b[31m\n",
      "\u001b[0m\u001b[30m[7]\u001b[0m\u001b[32mWyższa izba parlamentu zacznie teraz analizę ustawy , co może trwać kilka miesięcy - zaznacza agencja. Wszelkie zmiany w tekście będą musiały być zaaprobowane przez Izbę Gmin. Oznacza to, że cały proces legislacyjny może potrwać do maja. Lider opozycyjnej Partii Pracy Jeremy Corbyn poinstruował członków swojego ugrupowania, żeby głosowali przeciwko ustawie, argumentując to tym, że nie zawarto w niej szeregu gwarancji dotyczących pracowniczych i konsumenckich.\n",
      "\n",
      "Zgodnie z aktualnym harmonogramem Wielka Brytania musi wystąpić z UE przed 29 marca 2019 roku.\n",
      "\n",
      "\u001b[0m\n",
      "Overlap ratio: 0.3333\n",
      "----------------------------------------------------------------------------------------------------\n",
      "\u001b[30m[1]\u001b[0m\u001b[34mpl-1847\n",
      "\u001b[0m\u001b[30m[2]\u001b[0m\u001b[31mpl\n",
      "\u001b[0m\u001b[30m[3]\u001b[0m\u001b[34m2018-01-18\n",
      "http://zw.lt/swiat/wielka-brytania-izba-gmin-przeglosowala-ustawe-o-wyjsciu-z-ue/\n",
      "\u001b[0m\u001b[30m[4]\u001b[0m\u001b[31mWielka Brytania: Izba Gmin przegłosowała ustawę o wyjściu z UE\r\n",
      "\n",
      "\u001b[0m\u001b[30m[5]\u001b[0m\u001b[34mUchwalona Ustawa o Wyjściu z Unii Europejskiej odwołuje akt z 1972 roku, na mocy którego Wielka Brytania stała się członkiem Wspólnoty. „Ta ustawa jest kluczowa dla przygotowania kraju do historycznego kroku, jakim będzie wystąpienie z Unii Europejskiej” – powiedział jeszcze przed głosowaniem minister ds. Brexitu David Davis. Wynik głosowania stanowi sukces premier Theresy May nad oponentami politycznymi, którzy życzyliby sobie bardziej „miękkiego” rozwodu z UE, ale w Izbie Lordów, gdzie Partia Konserwatywna nie ma większości, może nie być tak łatwo – komentuje agencja Reutera. Wyższa izba parlamentu zacznie teraz analizę ustawy, co może trwać kilka miesięcy – zaznacza agencja. Wszelkie zmiany w tekście będą musiały być zaaprobowane przez Izbę Gmin. Oznacza to, że cały proces legislacyjny może potrwać do maja. Lider opozycyjnej Partii Pracy Jeremy Corbyn poinstruował członków swojego ugrupowania, żeby głosowali przeciwko ustawie, argumentując to tym, że nie zawarto w niej szeregu gwarancji dotyczących praw pracowniczych i konsumenckich. Zgodnie z aktualnym harmonogramem Wielka Brytania musi wystąpić z UE przed 29 marca 2019 roku.\n",
      "\u001b[0m\u001b[30m[6]\u001b[0m\u001b[31m\n",
      "\u001b[0m\n",
      "Overlap ratio: 0.5000\n",
      "----------------------------------------------------------------------------------------------------\n"
     ]
    }
   ],
   "source": [
    "s1 = [Word(w, \"\\n\") for w in doc_a_content.split(\"\\n\")]\n",
    "s2 = [Word(w, \"\\n\") for w in doc_b_content.split(\"\\n\")]\n",
    "\n",
    "DocumentDiff(s1, s2).print_diff()"
   ]
  },
  {
   "cell_type": "markdown",
   "metadata": {},
   "source": [
    "### Document as an array of words splitted by single spaces"
   ]
  },
  {
   "cell_type": "code",
   "execution_count": 13,
   "metadata": {},
   "outputs": [
    {
     "name": "stdout",
     "output_type": "stream",
     "text": [
      "----------------------------------------------------------------------------------------------------\n",
      "\u001b[30m[1]\u001b[0m\u001b[34mpl-465\n",
      "pl\n",
      "2018-01-17\n",
      "http://www.gazetaprawna.pl/artykuly/1098490,izba-gmin-przeglosowala-ustawe-o-wyjsciu-z-ue.html\n",
      "Wielka \u001b[0m\u001b[30m[2]\u001b[0m\u001b[31mBrytania: Izba Gmin przegłosowała ustawę o wyjściu z UE\r\n",
      "\n",
      "Uchwalona Ustawa o Wyjściu z Unii Europejskiej odwołuje akt z 1972 roku, na mocy którego Wielka Brytania stała się członkiem Wspólnoty. \u001b[0m\u001b[30m[3]\u001b[0m\u001b[34m\"Ta \u001b[0m\u001b[30m[4]\u001b[0m\u001b[31mustawa jest kluczowa dla przygotowania kraju do historycznego kroku, jakim będzie wystąpienie z Unii \u001b[0m\u001b[30m[5]\u001b[0m\u001b[34mEuropejskiej\" - \u001b[0m\u001b[30m[6]\u001b[0m\u001b[31mpowiedział jeszcze przed głosowaniem minister ds. Brexitu David Davis. Wynik głosowania stanowi sukces premier Theresy May nad oponentami politycznymi, którzy życzyliby sobie bardziej \u001b[0m\u001b[30m[7]\u001b[0m\u001b[34m\"miękkiego\" \u001b[0m\u001b[30m[8]\u001b[0m\u001b[31mrozwodu z \u001b[0m\u001b[30m[9]\u001b[0m\u001b[34mUE , \u001b[0m\u001b[30m[10]\u001b[0m\u001b[31male w Izbie Lordów, gdzie Partia Konserwatywna nie ma większości, może nie być tak łatwo \u001b[0m\u001b[30m[11]\u001b[0m\u001b[34m- \u001b[0m\u001b[30m[12]\u001b[0m\u001b[31mkomentuje agencja \u001b[0m\u001b[30m[13]\u001b[0m\u001b[34mReutera.\n",
      "\n",
      "Wyższa \u001b[0m\u001b[30m[14]\u001b[0m\u001b[31mizba parlamentu zacznie teraz analizę \u001b[0m\u001b[30m[15]\u001b[0m\u001b[34mustawy , \u001b[0m\u001b[30m[16]\u001b[0m\u001b[31mco może trwać kilka miesięcy \u001b[0m\u001b[30m[17]\u001b[0m\u001b[34m- \u001b[0m\u001b[30m[18]\u001b[0m\u001b[31mzaznacza agencja. Wszelkie zmiany w tekście będą musiały być zaaprobowane przez Izbę Gmin. Oznacza to, że cały proces legislacyjny może potrwać do maja. Lider opozycyjnej Partii Pracy Jeremy Corbyn poinstruował członków swojego ugrupowania, żeby głosowali przeciwko ustawie, argumentując to tym, że nie zawarto w niej szeregu gwarancji dotyczących \u001b[0m\u001b[30m[20]\u001b[0m\u001b[31mpracowniczych i \u001b[0m\u001b[30m[21]\u001b[0m\u001b[34mkonsumenckich.\n",
      "\n",
      "Zgodnie \u001b[0m\u001b[30m[22]\u001b[0m\u001b[31mz aktualnym harmonogramem Wielka Brytania musi wystąpić z UE przed 29 marca 2019 roku.\n",
      " \u001b[0m\n",
      "Overlap ratio: 0.9244\n",
      "----------------------------------------------------------------------------------------------------\n",
      "\u001b[30m[1]\u001b[0m\u001b[34mpl-1847\n",
      "pl\n",
      "2018-01-18\n",
      "http://zw.lt/swiat/wielka-brytania-izba-gmin-przeglosowala-ustawe-o-wyjsciu-z-ue/\n",
      "Wielka \u001b[0m\u001b[30m[2]\u001b[0m\u001b[31mBrytania: Izba Gmin przegłosowała ustawę o wyjściu z UE\r\n",
      "\n",
      "Uchwalona Ustawa o Wyjściu z Unii Europejskiej odwołuje akt z 1972 roku, na mocy którego Wielka Brytania stała się członkiem Wspólnoty. \u001b[0m\u001b[30m[3]\u001b[0m\u001b[34m„Ta \u001b[0m\u001b[30m[4]\u001b[0m\u001b[31mustawa jest kluczowa dla przygotowania kraju do historycznego kroku, jakim będzie wystąpienie z Unii \u001b[0m\u001b[30m[5]\u001b[0m\u001b[34mEuropejskiej” – \u001b[0m\u001b[30m[6]\u001b[0m\u001b[31mpowiedział jeszcze przed głosowaniem minister ds. Brexitu David Davis. Wynik głosowania stanowi sukces premier Theresy May nad oponentami politycznymi, którzy życzyliby sobie bardziej \u001b[0m\u001b[30m[7]\u001b[0m\u001b[34m„miękkiego” \u001b[0m\u001b[30m[8]\u001b[0m\u001b[31mrozwodu z \u001b[0m\u001b[30m[9]\u001b[0m\u001b[34mUE, \u001b[0m\u001b[30m[10]\u001b[0m\u001b[31male w Izbie Lordów, gdzie Partia Konserwatywna nie ma większości, może nie być tak łatwo \u001b[0m\u001b[30m[11]\u001b[0m\u001b[34m– \u001b[0m\u001b[30m[12]\u001b[0m\u001b[31mkomentuje agencja \u001b[0m\u001b[30m[13]\u001b[0m\u001b[34mReutera. Wyższa \u001b[0m\u001b[30m[14]\u001b[0m\u001b[31mizba parlamentu zacznie teraz analizę \u001b[0m\u001b[30m[15]\u001b[0m\u001b[34mustawy, \u001b[0m\u001b[30m[16]\u001b[0m\u001b[31mco może trwać kilka miesięcy \u001b[0m\u001b[30m[17]\u001b[0m\u001b[34m– \u001b[0m\u001b[30m[18]\u001b[0m\u001b[31mzaznacza agencja. Wszelkie zmiany w tekście będą musiały być zaaprobowane przez Izbę Gmin. Oznacza to, że cały proces legislacyjny może potrwać do maja. Lider opozycyjnej Partii Pracy Jeremy Corbyn poinstruował członków swojego ugrupowania, żeby głosowali przeciwko ustawie, argumentując to tym, że nie zawarto w niej szeregu gwarancji dotyczących \u001b[0m\u001b[30m[19]\u001b[0m\u001b[32mpraw \u001b[0m\u001b[30m[20]\u001b[0m\u001b[31mpracowniczych i \u001b[0m\u001b[30m[21]\u001b[0m\u001b[34mkonsumenckich. Zgodnie \u001b[0m\u001b[30m[22]\u001b[0m\u001b[31mz aktualnym harmonogramem Wielka Brytania musi wystąpić z UE przed 29 marca 2019 roku.\n",
      " \u001b[0m\n",
      "Overlap ratio: 0.9191\n",
      "----------------------------------------------------------------------------------------------------\n"
     ]
    }
   ],
   "source": [
    "s1 = [Word(w, \" \") for w in doc_a_content.split(\" \")]\n",
    "s2 = [Word(w, \" \") for w in doc_b_content.split(\" \")]\n",
    "\n",
    "DocumentDiff(s1, s2).print_diff()"
   ]
  },
  {
   "cell_type": "markdown",
   "metadata": {},
   "source": [
    "### Document as an array of token orths"
   ]
  },
  {
   "cell_type": "markdown",
   "metadata": {},
   "source": [
    "#### Auxiliary class for tokenization"
   ]
  },
  {
   "cell_type": "code",
   "execution_count": 14,
   "metadata": {},
   "outputs": [],
   "source": [
    "import xml.etree.ElementTree as ET\n",
    "\n",
    "class Tokenizer:\n",
    "    \n",
    "    def __init__(self):\n",
    "        self.url = \"http://ws.clarin-pl.eu/nlprest2/base/process\"\n",
    "        self.user_mail = \"demo2019@nlpday.pl\"\n",
    "        self.lpmn = \"wcrft2\"\n",
    "        \n",
    "    def process(self, text):\n",
    "        payload = {'text': text, 'lpmn': self.lpmn, 'user': self.user_mail}\n",
    "        headers = {'content-type': 'application/json'}\n",
    "        r = requests.post(self.url, data=json.dumps(payload), headers=headers)\n",
    "        return r.content.decode('utf-8')        \n",
    "    \n",
    "    def orths(self, text):\n",
    "        ccl = self.process(text)\n",
    "        tree = ET.fromstring(ccl)\n",
    "        return [orth.text for orth in tree.iter('orth')]"
   ]
  },
  {
   "cell_type": "markdown",
   "metadata": {},
   "source": [
    "#### Convert document into an array of orth tokens"
   ]
  },
  {
   "cell_type": "code",
   "execution_count": 15,
   "metadata": {},
   "outputs": [
    {
     "name": "stdout",
     "output_type": "stream",
     "text": [
      "----------------------------------------------------------------------------------------------------\n",
      "\u001b[30m[1]\u001b[0m\u001b[31mpl - \u001b[0m\u001b[30m[2]\u001b[0m\u001b[34m465 \u001b[0m\u001b[30m[3]\u001b[0m\u001b[31mpl \u001b[0m\u001b[30m[4]\u001b[0m\u001b[34m2018-01-17 http://www.gazetaprawna.pl/artykuly/1098490,izba-gmin-przeglosowala-ustawe-o-wyjsciu-z-ue.html \u001b[0m\u001b[30m[5]\u001b[0m\u001b[31mWielka Brytania : Izba Gmin przegłosowała ustawę o wyjściu z UE Uchwalona Ustawa o Wyjściu z Unii Europejskiej odwołuje akt z 1972 roku , na mocy którego Wielka Brytania stała się członkiem Wspólnoty . \u001b[0m\u001b[30m[6]\u001b[0m\u001b[34m\" \u001b[0m\u001b[30m[7]\u001b[0m\u001b[31mTa ustawa jest kluczowa dla przygotowania kraju do historycznego kroku , jakim będzie wystąpienie z Unii Europejskiej \u001b[0m\u001b[30m[8]\u001b[0m\u001b[34m\" - \u001b[0m\u001b[30m[9]\u001b[0m\u001b[31mpowiedział jeszcze przed głosowaniem minister ds . Brexitu David Davis . Wynik głosowania stanowi sukces premier Theresy May nad oponentami politycznymi , którzy życzyli by sobie bardziej \u001b[0m\u001b[30m[10]\u001b[0m\u001b[34m\" \u001b[0m\u001b[30m[11]\u001b[0m\u001b[31mmiękkiego \u001b[0m\u001b[30m[12]\u001b[0m\u001b[34m\" \u001b[0m\u001b[30m[13]\u001b[0m\u001b[31mrozwodu z UE , ale w Izbie Lordów , gdzie Partia Konserwatywna nie ma większości , może nie być tak łatwo \u001b[0m\u001b[30m[14]\u001b[0m\u001b[34m- \u001b[0m\u001b[30m[15]\u001b[0m\u001b[31mkomentuje agencja Reutera . Wyższa izba parlamentu zacznie teraz analizę ustawy , co może trwać kilka miesięcy \u001b[0m\u001b[30m[16]\u001b[0m\u001b[34m- \u001b[0m\u001b[30m[17]\u001b[0m\u001b[31mzaznacza agencja . Wszelkie zmiany w tekście będą musiały być zaaprobowane przez Izbę Gmin . Oznacza to , że cały proces legislacyjny może potrwać do maja . Lider opozycyjnej Partii Pracy Jeremy Corbyn poinstruował członków swojego ugrupowania , żeby głosowali przeciwko ustawie , argumentując to tym , że nie zawarto w niej szeregu gwarancji dotyczących \u001b[0m\u001b[30m[19]\u001b[0m\u001b[31mpracowniczych i konsumenckich . Zgodnie z aktualnym harmonogramem Wielka Brytania musi wystąpić z UE przed 29 marca 2019 roku . \u001b[0m\n",
      "Overlap ratio: 0.9512\n",
      "----------------------------------------------------------------------------------------------------\n",
      "\u001b[30m[1]\u001b[0m\u001b[31mpl - \u001b[0m\u001b[30m[2]\u001b[0m\u001b[34m1847 \u001b[0m\u001b[30m[3]\u001b[0m\u001b[31mpl \u001b[0m\u001b[30m[4]\u001b[0m\u001b[34m2018-01-18 http://zw.lt/swiat/wielka-brytania-izba-gmin-przeglosowala-ustawe-o-wyjsciu-z-ue/ \u001b[0m\u001b[30m[5]\u001b[0m\u001b[31mWielka Brytania : Izba Gmin przegłosowała ustawę o wyjściu z UE Uchwalona Ustawa o Wyjściu z Unii Europejskiej odwołuje akt z 1972 roku , na mocy którego Wielka Brytania stała się członkiem Wspólnoty . \u001b[0m\u001b[30m[6]\u001b[0m\u001b[34m„ \u001b[0m\u001b[30m[7]\u001b[0m\u001b[31mTa ustawa jest kluczowa dla przygotowania kraju do historycznego kroku , jakim będzie wystąpienie z Unii Europejskiej \u001b[0m\u001b[30m[8]\u001b[0m\u001b[34m” – \u001b[0m\u001b[30m[9]\u001b[0m\u001b[31mpowiedział jeszcze przed głosowaniem minister ds . Brexitu David Davis . Wynik głosowania stanowi sukces premier Theresy May nad oponentami politycznymi , którzy życzyli by sobie bardziej \u001b[0m\u001b[30m[10]\u001b[0m\u001b[34m„ \u001b[0m\u001b[30m[11]\u001b[0m\u001b[31mmiękkiego \u001b[0m\u001b[30m[12]\u001b[0m\u001b[34m” \u001b[0m\u001b[30m[13]\u001b[0m\u001b[31mrozwodu z UE , ale w Izbie Lordów , gdzie Partia Konserwatywna nie ma większości , może nie być tak łatwo \u001b[0m\u001b[30m[14]\u001b[0m\u001b[34m– \u001b[0m\u001b[30m[15]\u001b[0m\u001b[31mkomentuje agencja Reutera . Wyższa izba parlamentu zacznie teraz analizę ustawy , co może trwać kilka miesięcy \u001b[0m\u001b[30m[16]\u001b[0m\u001b[34m– \u001b[0m\u001b[30m[17]\u001b[0m\u001b[31mzaznacza agencja . Wszelkie zmiany w tekście będą musiały być zaaprobowane przez Izbę Gmin . Oznacza to , że cały proces legislacyjny może potrwać do maja . Lider opozycyjnej Partii Pracy Jeremy Corbyn poinstruował członków swojego ugrupowania , żeby głosowali przeciwko ustawie , argumentując to tym , że nie zawarto w niej szeregu gwarancji dotyczących \u001b[0m\u001b[30m[18]\u001b[0m\u001b[32mpraw \u001b[0m\u001b[30m[19]\u001b[0m\u001b[31mpracowniczych i konsumenckich . Zgodnie z aktualnym harmonogramem Wielka Brytania musi wystąpić z UE przed 29 marca 2019 roku . \u001b[0m\n",
      "Overlap ratio: 0.9466\n",
      "----------------------------------------------------------------------------------------------------\n"
     ]
    }
   ],
   "source": [
    "tokenizer = Tokenizer()\n",
    "\n",
    "s1 = [Word(w, \" \") for w in tokenizer.orths(doc_a_content)]\n",
    "s2 = [Word(w, \" \") for w in tokenizer.orths(doc_b_content)]\n",
    "    \n",
    "DocumentDiff(s1, s2).print_diff()"
   ]
  },
  {
   "cell_type": "code",
   "execution_count": 16,
   "metadata": {},
   "outputs": [
    {
     "name": "stdout",
     "output_type": "stream",
     "text": [
      "----------------------------------------------------------------------------------------------------\n",
      "\u001b[30m[1]\u001b[0m\u001b[31mpl-\u001b[0m\u001b[30m[2]\u001b[0m\u001b[34m465\n",
      "\u001b[0m\u001b[30m[3]\u001b[0m\u001b[31mpl\n",
      "\u001b[0m\u001b[30m[4]\u001b[0m\u001b[34m2018-01-17\n",
      "http://www.gazetaprawna.pl/artykuly/1098490,izba-gmin-przeglosowala-ustawe-o-wyjsciu-z-ue.html\n",
      "\u001b[0m\u001b[30m[5]\u001b[0m\u001b[31mWielka Brytania: Izba Gmin przegłosowała ustawę o wyjściu z UE\r\n",
      "\n",
      "Uchwalona Ustawa o Wyjściu z Unii Europejskiej odwołuje akt z 1972 roku, na mocy którego Wielka Brytania stała się członkiem Wspólnoty. \u001b[0m\u001b[30m[6]\u001b[0m\u001b[34m\"\u001b[0m\u001b[30m[7]\u001b[0m\u001b[31mTa ustawa jest kluczowa dla przygotowania kraju do historycznego kroku, jakim będzie wystąpienie z Unii Europejskiej\u001b[0m\u001b[30m[8]\u001b[0m\u001b[34m\" - \u001b[0m\u001b[30m[9]\u001b[0m\u001b[31mpowiedział jeszcze przed głosowaniem minister ds. Brexitu David Davis. Wynik głosowania stanowi sukces premier Theresy May nad oponentami politycznymi, którzy życzyliby sobie bardziej \u001b[0m\u001b[30m[10]\u001b[0m\u001b[34m\"\u001b[0m\u001b[30m[11]\u001b[0m\u001b[31mmiękkiego\u001b[0m\u001b[30m[12]\u001b[0m\u001b[34m\" \u001b[0m\u001b[30m[13]\u001b[0m\u001b[31mrozwodu z UE , ale w Izbie Lordów, gdzie Partia Konserwatywna nie ma większości, może nie być tak łatwo \u001b[0m\u001b[30m[14]\u001b[0m\u001b[34m- \u001b[0m\u001b[30m[15]\u001b[0m\u001b[31mkomentuje agencja Reutera.\n",
      "\n",
      "Wyższa izba parlamentu zacznie teraz analizę ustawy , co może trwać kilka miesięcy \u001b[0m\u001b[30m[16]\u001b[0m\u001b[34m- \u001b[0m\u001b[30m[17]\u001b[0m\u001b[31mzaznacza agencja. Wszelkie zmiany w tekście będą musiały być zaaprobowane przez Izbę Gmin. Oznacza to, że cały proces legislacyjny może potrwać do maja. Lider opozycyjnej Partii Pracy Jeremy Corbyn poinstruował członków swojego ugrupowania, żeby głosowali przeciwko ustawie, argumentując to tym, że nie zawarto w niej szeregu gwarancji dotyczących \u001b[0m\u001b[30m[19]\u001b[0m\u001b[31mpracowniczych i konsumenckich.\n",
      "\n",
      "Zgodnie z aktualnym harmonogramem Wielka Brytania musi wystąpić z UE przed 29 marca 2019 roku.\u001b[0m\n",
      "Overlap ratio: 0.9512\n",
      "----------------------------------------------------------------------------------------------------\n",
      "\u001b[30m[1]\u001b[0m\u001b[31mpl-\u001b[0m\u001b[30m[2]\u001b[0m\u001b[34m1847\n",
      "\u001b[0m\u001b[30m[3]\u001b[0m\u001b[31mpl\n",
      "\u001b[0m\u001b[30m[4]\u001b[0m\u001b[34m2018-01-18\n",
      "http://zw.lt/swiat/wielka-brytania-izba-gmin-przeglosowala-ustawe-o-wyjsciu-z-ue/\n",
      "\u001b[0m\u001b[30m[5]\u001b[0m\u001b[31mWielka Brytania: Izba Gmin przegłosowała ustawę o wyjściu z UE\r\n",
      "\n",
      "Uchwalona Ustawa o Wyjściu z Unii Europejskiej odwołuje akt z 1972 roku, na mocy którego Wielka Brytania stała się członkiem Wspólnoty. \u001b[0m\u001b[30m[6]\u001b[0m\u001b[34m„\u001b[0m\u001b[30m[7]\u001b[0m\u001b[31mTa ustawa jest kluczowa dla przygotowania kraju do historycznego kroku, jakim będzie wystąpienie z Unii Europejskiej\u001b[0m\u001b[30m[8]\u001b[0m\u001b[34m” – \u001b[0m\u001b[30m[9]\u001b[0m\u001b[31mpowiedział jeszcze przed głosowaniem minister ds. Brexitu David Davis. Wynik głosowania stanowi sukces premier Theresy May nad oponentami politycznymi, którzy życzyliby sobie bardziej \u001b[0m\u001b[30m[10]\u001b[0m\u001b[34m„\u001b[0m\u001b[30m[11]\u001b[0m\u001b[31mmiękkiego\u001b[0m\u001b[30m[12]\u001b[0m\u001b[34m” \u001b[0m\u001b[30m[13]\u001b[0m\u001b[31mrozwodu z UE, ale w Izbie Lordów, gdzie Partia Konserwatywna nie ma większości, może nie być tak łatwo \u001b[0m\u001b[30m[14]\u001b[0m\u001b[34m– \u001b[0m\u001b[30m[15]\u001b[0m\u001b[31mkomentuje agencja Reutera. Wyższa izba parlamentu zacznie teraz analizę ustawy, co może trwać kilka miesięcy \u001b[0m\u001b[30m[16]\u001b[0m\u001b[34m– \u001b[0m\u001b[30m[17]\u001b[0m\u001b[31mzaznacza agencja. Wszelkie zmiany w tekście będą musiały być zaaprobowane przez Izbę Gmin. Oznacza to, że cały proces legislacyjny może potrwać do maja. Lider opozycyjnej Partii Pracy Jeremy Corbyn poinstruował członków swojego ugrupowania, żeby głosowali przeciwko ustawie, argumentując to tym, że nie zawarto w niej szeregu gwarancji dotyczących \u001b[0m\u001b[30m[18]\u001b[0m\u001b[32mpraw \u001b[0m\u001b[30m[19]\u001b[0m\u001b[31mpracowniczych i konsumenckich. Zgodnie z aktualnym harmonogramem Wielka Brytania musi wystąpić z UE przed 29 marca 2019 roku.\u001b[0m\n",
      "Overlap ratio: 0.9466\n",
      "----------------------------------------------------------------------------------------------------\n"
     ]
    }
   ],
   "source": [
    "def align_tokens_with_text(tokens, text):\n",
    "    n = 0\n",
    "    words = []\n",
    "    last_orth = None    \n",
    "    for orth in tokens:\n",
    "        m = text.find(orth.orth, n)\n",
    "        if last_orth != None:\n",
    "            words += [Word(last_orth, text[n:m])]\n",
    "        last_orth = orth.orth\n",
    "        n = m + len(orth.orth)\n",
    "    words += [Word(last_orth, \"\")]\n",
    "    return words\n",
    "\n",
    "s1_aligned = align_tokens_with_text(s1, doc_a_content)\n",
    "s2_aligned = align_tokens_with_text(s2, doc_b_content)\n",
    "\n",
    "DocumentDiff(s1_aligned, s2_aligned).print_diff()"
   ]
  },
  {
   "cell_type": "markdown",
   "metadata": {},
   "source": [
    "### Analysis of a group with more than two documents"
   ]
  },
  {
   "cell_type": "code",
   "execution_count": 17,
   "metadata": {},
   "outputs": [
    {
     "name": "stdout",
     "output_type": "stream",
     "text": [
      "[36, 62, 76, 119, 160]\n"
     ]
    }
   ],
   "source": [
    "group = groups[0]\n",
    "print(group)"
   ]
  },
  {
   "cell_type": "code",
   "execution_count": 18,
   "metadata": {},
   "outputs": [
    {
     "name": "stdout",
     "output_type": "stream",
     "text": [
      "Document index: 36\n",
      "Document index: 62\n",
      "Document index: 76\n",
      "Document index: 119\n",
      "Document index: 160\n",
      "Ready\n"
     ]
    }
   ],
   "source": [
    "document_tokens = []\n",
    "\n",
    "for i in group:\n",
    "    print(\"Document index: %d\" % i)\n",
    "    doc = rowlabels[i]\n",
    "    doc = restore_zip_filename(doc)\n",
    "    doc_content = zf.read(doc).decode(\"utf-8-sig\")\n",
    "    \n",
    "    tokens = [Word(w, \" \") for w in tokenizer.orths(doc_content)]\n",
    "    tokens_aligned = align_tokens_with_text(tokens, doc_content)\n",
    "    document_tokens.append(tokens_aligned)\n",
    "    \n",
    "print(\"Ready\")"
   ]
  },
  {
   "cell_type": "code",
   "execution_count": 19,
   "metadata": {},
   "outputs": [
    {
     "name": "stdout",
     "output_type": "stream",
     "text": [
      "Document overlap\n",
      "[[0.         0.95495495 0.93468468 0.83558559 0.85135135]\n",
      " [0.86004057 0.         0.85598377 0.75862069 0.75862069]\n",
      " [0.87368421 0.88842105 0.         0.80210526 0.77684211]\n",
      " [0.93450882 0.94206549 0.95969773 0.         0.82871537]\n",
      " [0.81641469 0.80777538 0.79697624 0.71058315 0.        ]]\n",
      "\n",
      "[0]  0.894\n",
      "[1]  0.808\n",
      "[2]  0.835\n",
      "[3]  0.916\n",
      "[4]  0.783\n"
     ]
    }
   ],
   "source": [
    "overlap_matrix = np.zeros(shape=(len(document_tokens), len(document_tokens)))\n",
    "\n",
    "for i in range(0, len(group)):    \n",
    "    for j in range(0, i):\n",
    "        dd = DocumentDiff(document_tokens[i], document_tokens[j])\n",
    "        overlap_matrix[i,j] = dd.get_overlap_doc1()\n",
    "        overlap_matrix[j,i] = dd.get_overlap_doc2()\n",
    "        \n",
    "        \n",
    "print(\"Document overlap\")\n",
    "print(overlap_matrix)\n",
    "print(\"\")\n",
    "\n",
    "for i in range(0, len(document_tokens)):\n",
    "    row = overlap_matrix[i,]\n",
    "    row = np.delete(row, i)\n",
    "    avg = sum(row)/len(row)\n",
    "    print(\"[%d] %6.3f\" % (i, avg))"
   ]
  },
  {
   "cell_type": "markdown",
   "metadata": {},
   "source": [
    "[Back to agenda](agenda.ipynb)"
   ]
  }
 ],
 "metadata": {
  "kernelspec": {
   "display_name": "Python 3",
   "language": "python",
   "name": "python3"
  },
  "language_info": {
   "codemirror_mode": {
    "name": "ipython",
    "version": 3
   },
   "file_extension": ".py",
   "mimetype": "text/x-python",
   "name": "python",
   "nbconvert_exporter": "python",
   "pygments_lexer": "ipython3",
   "version": "3.5.2"
  }
 },
 "nbformat": 4,
 "nbformat_minor": 2
}
