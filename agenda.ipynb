{
 "cells": [
  {
   "cell_type": "markdown",
   "metadata": {},
   "source": [
    "# Solving NLP tasks using CLARIN-PL web services API\n",
    "\n",
    "* [Part 1 — Introduction to the CLARIN-PL web services](part1.ipynb)\n",
    "* [Part 2 — Finding document duplicates and near duplicates using WebSty](part2.ipynb)\n",
    "* [Part 3 — Building an index of named entities](part3.ipynb)"
   ]
  }
 ],
 "metadata": {
  "kernelspec": {
   "display_name": "Python 3",
   "language": "python",
   "name": "python3"
  },
  "language_info": {
   "codemirror_mode": {
    "name": "ipython",
    "version": 3
   },
   "file_extension": ".py",
   "mimetype": "text/x-python",
   "name": "python",
   "nbconvert_exporter": "python",
   "pygments_lexer": "ipython3",
   "version": "3.5.2"
  }
 },
 "nbformat": 4,
 "nbformat_minor": 2
}
