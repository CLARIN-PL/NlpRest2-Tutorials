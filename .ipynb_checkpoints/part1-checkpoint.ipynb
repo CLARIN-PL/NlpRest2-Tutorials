{
 "cells": [
  {
   "cell_type": "markdown",
   "metadata": {},
   "source": [
    "# Part 1 — Introduction to the CLARIN-PL web services"
   ]
  },
  {
   "cell_type": "markdown",
   "metadata": {},
   "source": [
    "## 1. Basic characteristic\n",
    "\n",
    "* REST model,\n",
    "* GET/POST communication,\n",
    "* synchronous (for short texts and fast tasks) and asynchronous (time-consuming processing),\n",
    "* LPMN — a notion for defining the processing pipeline (http://nlp.pwr.wroc.pl/redmine/projects/nlprest2/wiki/Tools)"
   ]
  },
  {
   "cell_type": "markdown",
   "metadata": {},
   "source": [
    "## 2. The simplest use case\n",
    "\n",
    "Process a short sentence using synchronous GET request."
   ]
  },
  {
   "cell_type": "code",
   "execution_count": null,
   "metadata": {},
   "outputs": [],
   "source": [
    "import json\n",
    "import requests\n",
    "\n",
    "clarinpl_url = \"http://ws.clarin-pl.eu/nlprest2/base\"\n",
    "user_mail = \"demo2019@nlpday.pl\""
   ]
  },
  {
   "cell_type": "code",
   "execution_count": null,
   "metadata": {},
   "outputs": [],
   "source": [
    "url = clarinpl_url + \"/process\"\n",
    "lpmn = \"wcrft2\"\n",
    "text = \"Na płocie siedzi kot.\"\n",
    "\n",
    "payload = {'text': text, 'lpmn': lpmn, 'user': user_mail}\n",
    "headers = {'content-type': 'application/json'}"
   ]
  },
  {
   "cell_type": "code",
   "execution_count": null,
   "metadata": {},
   "outputs": [],
   "source": [
    "r = requests.post(url, data=json.dumps(payload), headers=headers)\n",
    "ccl = r.content.decode('utf-8')\n",
    "print(ccl)"
   ]
  },
  {
   "cell_type": "markdown",
   "metadata": {},
   "source": [
    "### Print a list of token text forms"
   ]
  },
  {
   "cell_type": "code",
   "execution_count": null,
   "metadata": {},
   "outputs": [],
   "source": [
    "import xml.etree.ElementTree as ET\n",
    "\n",
    "def ccl_orths(ccl):\n",
    "    tree = ET.fromstring(ccl)\n",
    "    return [orth.text for orth in tree.iter('orth')]\n",
    "\n",
    "orths = get_orths(ccl)\n",
    "\n",
    "print(orths)"
   ]
  },
  {
   "cell_type": "markdown",
   "metadata": {},
   "source": [
    "### Print a list of token bases"
   ]
  },
  {
   "cell_type": "code",
   "execution_count": null,
   "metadata": {},
   "outputs": [],
   "source": [
    "def ccl_bases(ccl):\n",
    "    tree = ET.fromstring(ccl)\n",
    "    return [tok.find('./lex/base').text for tok in tree.iter('tok')]\n",
    "\n",
    "bases = ccl_bases(ccl)\n",
    "    \n",
    "print(bases)"
   ]
  },
  {
   "cell_type": "markdown",
   "metadata": {},
   "source": [
    "### Print a list of token part of speech tags"
   ]
  },
  {
   "cell_type": "code",
   "execution_count": null,
   "metadata": {},
   "outputs": [],
   "source": [
    "def ccl_poses(ccl):\n",
    "    tree = ET.fromstring(ccl)\n",
    "    return [tok.find('./lex/ctag').text.split(\":\")[0] for tok in tree.iter('tok')]\n",
    "\n",
    "poses = ccl_poses(ccl)\n",
    "\n",
    "print(poses)"
   ]
  },
  {
   "cell_type": "markdown",
   "metadata": {},
   "source": [
    "### Tag and recognize named entities (boundaries)"
   ]
  },
  {
   "cell_type": "code",
   "execution_count": null,
   "metadata": {},
   "outputs": [],
   "source": [
    "url = clarinpl_url + \"/process\"\n",
    "#lpmn = 'wcrft2'\n",
    "lpmn = \"wcrft2|liner2\"\n",
    "text = \"Tony Halik przyszedł na świat w Toruniu\"\n",
    "\n",
    "payload = {'text': text, 'lpmn': lpmn, 'user': user_mail}\n",
    "headers = {'content-type': 'application/json'}"
   ]
  },
  {
   "cell_type": "code",
   "execution_count": null,
   "metadata": {},
   "outputs": [],
   "source": [
    "r = requests.post(url, data=json.dumps(payload), headers=headers)\n",
    "print(r.content.decode('utf-8'))"
   ]
  },
  {
   "cell_type": "markdown",
   "metadata": {},
   "source": [
    "### Tag and recognize named entities (coarse-grained categories)"
   ]
  },
  {
   "cell_type": "code",
   "execution_count": null,
   "metadata": {},
   "outputs": [],
   "source": [
    "url = clarinpl_url + \"/process\"\n",
    "#lpmn = 'wcrft2|liner2'\n",
    "lpmn = 'wcrft2|liner2({\"model\":\"top9\"})'\n",
    "text = \"Tony Halik przyszedł na świat w Toruniu\"\n",
    "\n",
    "payload = {'text': text, 'lpmn': lpmn, 'user': user_mail}\n",
    "headers = {'content-type': 'application/json'}"
   ]
  },
  {
   "cell_type": "code",
   "execution_count": null,
   "metadata": {},
   "outputs": [],
   "source": [
    "r = requests.post(url, data=json.dumps(payload), headers=headers)\n",
    "print(r.content.decode('utf-8'))"
   ]
  },
  {
   "cell_type": "markdown",
   "metadata": {},
   "source": [
    "## Batch processing (a zip package with a set of files)"
   ]
  },
  {
   "cell_type": "markdown",
   "metadata": {},
   "source": [
    "### Get a zip package with documents to process"
   ]
  },
  {
   "cell_type": "code",
   "execution_count": null,
   "metadata": {},
   "outputs": [],
   "source": [
    "import urllib.request\n",
    "\n",
    "url = clarinpl_url + \"/upload/\"\n",
    "url_zip = \"https://www.dropbox.com/s/54gmpdd6x3rx4gq/brexit_pl.zip?dl=1\"\n",
    "\n",
    "doc = urllib.request.urlopen(url_zip).read()\n",
    "    \n",
    "print(\"Size of the package: %d\" % len(doc))"
   ]
  },
  {
   "cell_type": "markdown",
   "metadata": {},
   "source": [
    "### Upload the package to CLARIN-PL WS"
   ]
  },
  {
   "cell_type": "code",
   "execution_count": null,
   "metadata": {},
   "outputs": [],
   "source": [
    "headers = {'content-type': 'binary/octet-stream'}\n",
    "\n",
    "file_handler = requests.post(url, data=doc, headers=headers).text\n",
    "print(\"File handler: %s\" % file_handler)\n",
    "print(\"URL: %s/download%s\" % (clarinpl_url, file_handler))"
   ]
  },
  {
   "cell_type": "markdown",
   "metadata": {},
   "source": [
    "### Execute the processing and wait until the processing is complete"
   ]
  },
  {
   "cell_type": "code",
   "execution_count": 41,
   "metadata": {},
   "outputs": [
    {
     "name": "stdout",
     "output_type": "stream",
     "text": [
      "LPMN: filezip(/users/default/d87e34e8-541e-4a9d-b160-268fe800564d)|wcrft2|dir|makezip\n",
      "Task id: 7b1d926e-efc7-40f4-8056-95bcc9b1a135\n",
      "[  0 s] Status: PROCESSING; Progress:   0.00%\n",
      "[  1 s] Status: PROCESSING; Progress:   0.00%\n",
      "[  3 s] Status: PROCESSING; Progress:   4.99%\n",
      "[  4 s] Status: PROCESSING; Progress:  20.76%\n",
      "[  5 s] Status: PROCESSING; Progress:  50.90%\n",
      "[  7 s] Status: PROCESSING; Progress:  70.26%\n",
      "[  8 s] Status: PROCESSING; Progress:  90.02%\n",
      "[  9 s] Status: PROCESSING; Progress:  90.02%\n",
      "[ 11 s] Status: DONE      ; Progress: 100.00%\n",
      "Result file id: /requests/makezip/edacd747-4fbf-457d-9607-cc15fb3a1531\n"
     ]
    }
   ],
   "source": [
    "import time\n",
    "\n",
    "url = clarinpl_url + \"/startTask\"\n",
    "lpmn = 'filezip(%s)|wcrft2|dir|makezip' % file_handler\n",
    "print(\"LPMN: %s\" % lpmn)\n",
    "\n",
    "payload = {'lpmn': lpmn, 'user': user_mail}\n",
    "headers = {'content-type': 'application/json'}\n",
    "\n",
    "start = time.time()\n",
    "task_id = requests.post(url, data=json.dumps(payload), headers=headers).text\n",
    "print(\"Task id: %s\" % task_id)\n",
    "\n",
    "# Check task status\n",
    "processing = True\n",
    "file_id = None\n",
    "\n",
    "while processing:\n",
    "  data = requests.get(clarinpl_url + \"/getStatus/\" + task_id).text\n",
    "  result = json.loads(data)\n",
    "  end = time.time()\n",
    "  if result[\"status\"] == \"PROCESSING\":\n",
    "    print(\"[%3d s] Status: %s; Progress: %6.2f%%\" % (end-start, result[\"status\"], result[\"value\"]*100))\n",
    "    time.sleep(1)\n",
    "  elif result[\"status\"] == \"DONE\":\n",
    "    file_id = result[\"value\"][0][\"fileID\"]\n",
    "    processing = False  \n",
    "    print(\"[%3d s] Status: DONE      ; Progress: 100.00%%\" % (end-start))\n",
    "  else:\n",
    "    print(data)\n",
    "    processing = False  \n",
    "    \n",
    "print(\"Result file id: %s\" % file_id)"
   ]
  },
  {
   "cell_type": "markdown",
   "metadata": {},
   "source": [
    "### Download the result"
   ]
  },
  {
   "cell_type": "code",
   "execution_count": null,
   "metadata": {},
   "outputs": [],
   "source": [
    "path = \"result.zip\"\n",
    "\n",
    "url = clarinpl_url + \"/download\" + file_id\n",
    "print(url)\n",
    "data = requests.get(url).content\n",
    "file = open(path, \"w+b\")\n",
    "file.write(data)\n",
    "file.close()\n",
    "\n",
    "print(\"Saved to %s\" % path)"
   ]
  },
  {
   "cell_type": "markdown",
   "metadata": {},
   "source": [
    "## Browse the result"
   ]
  },
  {
   "cell_type": "code",
   "execution_count": null,
   "metadata": {},
   "outputs": [],
   "source": [
    "import zipfile\n",
    "\n",
    "zf = zipfile.ZipFile(path, 'r')\n",
    "\n",
    "print(\"Number of documents: %d\" % len(zf.namelist()))\n",
    "\n",
    "print(\"\")\n",
    "print(\"First 10 files in the package:\")\n",
    "print(zf.namelist()[:10])\n",
    "\n",
    "print(\"\")\n",
    "print(\"Content of the first file:\")\n",
    "data = zf.read(zf.namelist()[0]).decode(\"utf-8-sig\")\n",
    "print(data)"
   ]
  },
  {
   "cell_type": "markdown",
   "metadata": {},
   "source": [
    "[Back to agenda](agenda.ipynb)"
   ]
  }
 ],
 "metadata": {
  "kernelspec": {
   "display_name": "Python 3",
   "language": "python",
   "name": "python3"
  },
  "language_info": {
   "codemirror_mode": {
    "name": "ipython",
    "version": 3
   },
   "file_extension": ".py",
   "mimetype": "text/x-python",
   "name": "python",
   "nbconvert_exporter": "python",
   "pygments_lexer": "ipython3",
   "version": "3.5.2"
  }
 },
 "nbformat": 4,
 "nbformat_minor": 2
}
